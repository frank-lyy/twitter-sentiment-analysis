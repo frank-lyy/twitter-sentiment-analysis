{
 "cells": [
  {
   "cell_type": "code",
   "execution_count": 2,
   "metadata": {},
   "outputs": [],
   "source": [
    "import pandas as pd\n",
    "import numpy as np\n",
    "import matplotlib.pyplot as plt\n",
    "cols = ['sentiment','id','date','query_string','user','text']\n",
    "df = pd.read_csv(\"./training.1600000.processed.noemoticon.csv\",header=None, names=cols)\n",
    "df.drop(['id', 'date', 'query_string', 'user'], axis=1, inplace=True)"
   ]
  },
  {
   "cell_type": "code",
   "execution_count": 3,
   "metadata": {},
   "outputs": [
    {
     "name": "stdout",
     "output_type": "stream",
     "text": [
      "Average tweet length pre-cleaning: 74.041768125 characters.\n"
     ]
    }
   ],
   "source": [
    "df['pre_clean_len'] = [len(t) for t in df.text]\n",
    "print(\"Average tweet length pre-cleaning:\", np.average(df['pre_clean_len']), \"characters.\")"
   ]
  },
  {
   "cell_type": "code",
   "execution_count": 76,
   "metadata": {},
   "outputs": [],
   "source": [
    "from bs4 import BeautifulSoup\n",
    "from nltk.corpus import stopwords\n",
    "import re\n",
    "\n",
    "STOPWORDS = stopwords.words('english')\n",
    "\n",
    "def text_cleaner(text, remove_stopwords=True):\n",
    "    temp = BeautifulSoup(text, 'lxml').get_text() # removes html encoding\n",
    "    temp.replace(\"'\", \"\") # avoids removing contractions\n",
    "    temp = temp.lower() # lowercase\n",
    "    temp = re.sub(r'@[A-Za-z0-9_]+', '', temp) # removes mentions\n",
    "    temp = re.sub(r'https?://\\S+', '', temp) # removes urls (http/https)\n",
    "    temp = re.sub(r'www.\\S+', '', temp) # removes urls (www.)\n",
    "    temp = re.sub(r'[&,.]', ' ', temp) # removes all non letters\n",
    "    temp = re.sub(r'[^a-z\\s]+', '', temp)\n",
    "    # tokenizes and removes stopwords\n",
    "    temp = temp.split()\n",
    "    if remove_stopwords: temp = [w for w in temp if w not in STOPWORDS]\n",
    "    cleaned = \" \".join(word for word in temp)\n",
    "    cleaned = cleaned.strip()\n",
    "    return cleaned\n",
    "\n",
    "clean_tweets = []\n",
    "clean_tweets_no_stopwords = []\n",
    "\n",
    "# for i in range(len(df)):\n",
    "#     if ((i+1)%10000 == 0): print(\"%d tweets have been cleaned\" % (i+1))\n",
    "    \n",
    "#     clean_tweet = text_cleaner(df.text[i], remove_stopwords=False)\n",
    "#     clean_tweet_no_stopwords = text_cleaner(df.text[i])\n",
    "    \n",
    "#     clean_tweets.append(clean_tweet)\n",
    "#     clean_tweets_no_stopwords.append(clean_tweet_no_stopwords)"
   ]
  },
  {
   "cell_type": "code",
   "execution_count": 21,
   "metadata": {},
   "outputs": [
    {
     "name": "stdout",
     "output_type": "stream",
     "text": [
      "<class 'pandas.core.frame.DataFrame'>\n",
      "RangeIndex: 1596243 entries, 0 to 1596242\n",
      "Data columns (total 2 columns):\n",
      " #   Column      Non-Null Count    Dtype \n",
      "---  ------      --------------    ----- \n",
      " 0   clean_text  1596243 non-null  object\n",
      " 1   target      1596243 non-null  int64 \n",
      "dtypes: int64(1), object(1)\n",
      "memory usage: 24.4+ MB\n",
      "<class 'pandas.core.frame.DataFrame'>\n",
      "RangeIndex: 1592108 entries, 0 to 1592107\n",
      "Data columns (total 2 columns):\n",
      " #   Column      Non-Null Count    Dtype \n",
      "---  ------      --------------    ----- \n",
      " 0   clean_text  1592108 non-null  object\n",
      " 1   target      1592108 non-null  int64 \n",
      "dtypes: int64(1), object(1)\n",
      "memory usage: 24.3+ MB\n"
     ]
    }
   ],
   "source": [
    "# creating new DataFrames and dropping null entries (which have occurred due to cleaning) to get cleaned training set\n",
    "clean_df = pd.DataFrame(clean_tweets, columns=['clean_text'])\n",
    "clean_no_stopwords_df = pd.DataFrame(clean_tweets_no_stopwords, columns=['clean_text'])\n",
    "\n",
    "clean_df['target'] = df.sentiment\n",
    "clean_no_stopwords_df['target'] = df.sentiment\n",
    "\n",
    "clean_df = clean_df[clean_df['clean_text'] != '']\n",
    "clean_no_stopwords_df = clean_no_stopwords_df[clean_no_stopwords_df['clean_text'] != '']\n",
    "\n",
    "clean_df.reset_index(drop=True, inplace=True)\n",
    "clean_no_stopwords_df.reset_index(drop=True, inplace=True)\n",
    "\n",
    "clean_df.info()\n",
    "clean_no_stopwords_df.info()"
   ]
  },
  {
   "cell_type": "code",
   "execution_count": 22,
   "metadata": {},
   "outputs": [],
   "source": [
    "clean_df.to_csv('clean_tweets_with_stopwords.csv', encoding='utf-8')\n",
    "clean_no_stopwords_df.to_csv('clean_tweets.csv', encoding='utf-8')"
   ]
  },
  {
   "cell_type": "code",
   "execution_count": 5,
   "metadata": {},
   "outputs": [
    {
     "name": "stdout",
     "output_type": "stream",
     "text": [
      "Validation result for 10000 features\n"
     ]
    },
    {
     "name": "stderr",
     "output_type": "stream",
     "text": [
      "c:\\Users\\Frank\\AppData\\Local\\Programs\\Python\\Python310\\lib\\site-packages\\sklearn\\linear_model\\_logistic.py:458: ConvergenceWarning: lbfgs failed to converge (status=1):\n",
      "STOP: TOTAL NO. of ITERATIONS REACHED LIMIT.\n",
      "\n",
      "Increase the number of iterations (max_iter) or scale the data as shown in:\n",
      "    https://scikit-learn.org/stable/modules/preprocessing.html\n",
      "Please also refer to the documentation for alternative solver options:\n",
      "    https://scikit-learn.org/stable/modules/linear_model.html#logistic-regression\n",
      "  n_iter_i = _check_optimize_result(\n"
     ]
    },
    {
     "name": "stdout",
     "output_type": "stream",
     "text": [
      "null accuracy: 50.59%\n",
      "accuracy score: 79.17%\n",
      "model is 28.58 % more accurate than null accuracy\n",
      "train and test time: 74.97s\n",
      "--------------------------------------------------------------------------------\n",
      "Validation result for 20000 features\n"
     ]
    },
    {
     "name": "stderr",
     "output_type": "stream",
     "text": [
      "c:\\Users\\Frank\\AppData\\Local\\Programs\\Python\\Python310\\lib\\site-packages\\sklearn\\linear_model\\_logistic.py:458: ConvergenceWarning: lbfgs failed to converge (status=1):\n",
      "STOP: TOTAL NO. of ITERATIONS REACHED LIMIT.\n",
      "\n",
      "Increase the number of iterations (max_iter) or scale the data as shown in:\n",
      "    https://scikit-learn.org/stable/modules/preprocessing.html\n",
      "Please also refer to the documentation for alternative solver options:\n",
      "    https://scikit-learn.org/stable/modules/linear_model.html#logistic-regression\n",
      "  n_iter_i = _check_optimize_result(\n"
     ]
    },
    {
     "name": "stdout",
     "output_type": "stream",
     "text": [
      "null accuracy: 50.59%\n",
      "accuracy score: 79.56%\n",
      "model is 28.97 % more accurate than null accuracy\n",
      "train and test time: 92.31s\n",
      "--------------------------------------------------------------------------------\n",
      "Validation result for 30000 features\n"
     ]
    },
    {
     "name": "stderr",
     "output_type": "stream",
     "text": [
      "c:\\Users\\Frank\\AppData\\Local\\Programs\\Python\\Python310\\lib\\site-packages\\sklearn\\linear_model\\_logistic.py:458: ConvergenceWarning: lbfgs failed to converge (status=1):\n",
      "STOP: TOTAL NO. of ITERATIONS REACHED LIMIT.\n",
      "\n",
      "Increase the number of iterations (max_iter) or scale the data as shown in:\n",
      "    https://scikit-learn.org/stable/modules/preprocessing.html\n",
      "Please also refer to the documentation for alternative solver options:\n",
      "    https://scikit-learn.org/stable/modules/linear_model.html#logistic-regression\n",
      "  n_iter_i = _check_optimize_result(\n"
     ]
    },
    {
     "name": "stdout",
     "output_type": "stream",
     "text": [
      "null accuracy: 50.59%\n",
      "accuracy score: 79.78%\n",
      "model is 29.19 % more accurate than null accuracy\n",
      "train and test time: 83.53s\n",
      "--------------------------------------------------------------------------------\n",
      "Validation result for 40000 features\n"
     ]
    },
    {
     "name": "stderr",
     "output_type": "stream",
     "text": [
      "c:\\Users\\Frank\\AppData\\Local\\Programs\\Python\\Python310\\lib\\site-packages\\sklearn\\linear_model\\_logistic.py:458: ConvergenceWarning: lbfgs failed to converge (status=1):\n",
      "STOP: TOTAL NO. of ITERATIONS REACHED LIMIT.\n",
      "\n",
      "Increase the number of iterations (max_iter) or scale the data as shown in:\n",
      "    https://scikit-learn.org/stable/modules/preprocessing.html\n",
      "Please also refer to the documentation for alternative solver options:\n",
      "    https://scikit-learn.org/stable/modules/linear_model.html#logistic-regression\n",
      "  n_iter_i = _check_optimize_result(\n"
     ]
    },
    {
     "name": "stdout",
     "output_type": "stream",
     "text": [
      "null accuracy: 50.59%\n",
      "accuracy score: 79.91%\n",
      "model is 29.31 % more accurate than null accuracy\n",
      "train and test time: 81.94s\n",
      "--------------------------------------------------------------------------------\n",
      "Validation result for 50000 features\n"
     ]
    },
    {
     "name": "stderr",
     "output_type": "stream",
     "text": [
      "c:\\Users\\Frank\\AppData\\Local\\Programs\\Python\\Python310\\lib\\site-packages\\sklearn\\linear_model\\_logistic.py:458: ConvergenceWarning: lbfgs failed to converge (status=1):\n",
      "STOP: TOTAL NO. of ITERATIONS REACHED LIMIT.\n",
      "\n",
      "Increase the number of iterations (max_iter) or scale the data as shown in:\n",
      "    https://scikit-learn.org/stable/modules/preprocessing.html\n",
      "Please also refer to the documentation for alternative solver options:\n",
      "    https://scikit-learn.org/stable/modules/linear_model.html#logistic-regression\n",
      "  n_iter_i = _check_optimize_result(\n"
     ]
    },
    {
     "name": "stdout",
     "output_type": "stream",
     "text": [
      "null accuracy: 50.59%\n",
      "accuracy score: 80.13%\n",
      "model is 29.53 % more accurate than null accuracy\n",
      "train and test time: 83.61s\n",
      "--------------------------------------------------------------------------------\n",
      "Validation result for 60000 features\n"
     ]
    },
    {
     "name": "stderr",
     "output_type": "stream",
     "text": [
      "c:\\Users\\Frank\\AppData\\Local\\Programs\\Python\\Python310\\lib\\site-packages\\sklearn\\linear_model\\_logistic.py:458: ConvergenceWarning: lbfgs failed to converge (status=1):\n",
      "STOP: TOTAL NO. of ITERATIONS REACHED LIMIT.\n",
      "\n",
      "Increase the number of iterations (max_iter) or scale the data as shown in:\n",
      "    https://scikit-learn.org/stable/modules/preprocessing.html\n",
      "Please also refer to the documentation for alternative solver options:\n",
      "    https://scikit-learn.org/stable/modules/linear_model.html#logistic-regression\n",
      "  n_iter_i = _check_optimize_result(\n"
     ]
    },
    {
     "name": "stdout",
     "output_type": "stream",
     "text": [
      "null accuracy: 50.59%\n",
      "accuracy score: 80.06%\n",
      "model is 29.46 % more accurate than null accuracy\n",
      "train and test time: 81.35s\n",
      "--------------------------------------------------------------------------------\n",
      "Validation result for 70000 features\n"
     ]
    },
    {
     "name": "stderr",
     "output_type": "stream",
     "text": [
      "c:\\Users\\Frank\\AppData\\Local\\Programs\\Python\\Python310\\lib\\site-packages\\sklearn\\linear_model\\_logistic.py:458: ConvergenceWarning: lbfgs failed to converge (status=1):\n",
      "STOP: TOTAL NO. of ITERATIONS REACHED LIMIT.\n",
      "\n",
      "Increase the number of iterations (max_iter) or scale the data as shown in:\n",
      "    https://scikit-learn.org/stable/modules/preprocessing.html\n",
      "Please also refer to the documentation for alternative solver options:\n",
      "    https://scikit-learn.org/stable/modules/linear_model.html#logistic-regression\n",
      "  n_iter_i = _check_optimize_result(\n"
     ]
    },
    {
     "name": "stdout",
     "output_type": "stream",
     "text": [
      "null accuracy: 50.59%\n",
      "accuracy score: 80.28%\n",
      "model is 29.69 % more accurate than null accuracy\n",
      "train and test time: 77.25s\n",
      "--------------------------------------------------------------------------------\n",
      "Validation result for 80000 features\n"
     ]
    },
    {
     "name": "stderr",
     "output_type": "stream",
     "text": [
      "c:\\Users\\Frank\\AppData\\Local\\Programs\\Python\\Python310\\lib\\site-packages\\sklearn\\linear_model\\_logistic.py:458: ConvergenceWarning: lbfgs failed to converge (status=1):\n",
      "STOP: TOTAL NO. of ITERATIONS REACHED LIMIT.\n",
      "\n",
      "Increase the number of iterations (max_iter) or scale the data as shown in:\n",
      "    https://scikit-learn.org/stable/modules/preprocessing.html\n",
      "Please also refer to the documentation for alternative solver options:\n",
      "    https://scikit-learn.org/stable/modules/linear_model.html#logistic-regression\n",
      "  n_iter_i = _check_optimize_result(\n"
     ]
    },
    {
     "name": "stdout",
     "output_type": "stream",
     "text": [
      "null accuracy: 50.59%\n",
      "accuracy score: 80.05%\n",
      "model is 29.46 % more accurate than null accuracy\n",
      "train and test time: 76.97s\n",
      "--------------------------------------------------------------------------------\n",
      "Validation result for 90000 features\n"
     ]
    },
    {
     "name": "stderr",
     "output_type": "stream",
     "text": [
      "c:\\Users\\Frank\\AppData\\Local\\Programs\\Python\\Python310\\lib\\site-packages\\sklearn\\linear_model\\_logistic.py:458: ConvergenceWarning: lbfgs failed to converge (status=1):\n",
      "STOP: TOTAL NO. of ITERATIONS REACHED LIMIT.\n",
      "\n",
      "Increase the number of iterations (max_iter) or scale the data as shown in:\n",
      "    https://scikit-learn.org/stable/modules/preprocessing.html\n",
      "Please also refer to the documentation for alternative solver options:\n",
      "    https://scikit-learn.org/stable/modules/linear_model.html#logistic-regression\n",
      "  n_iter_i = _check_optimize_result(\n"
     ]
    },
    {
     "name": "stdout",
     "output_type": "stream",
     "text": [
      "null accuracy: 50.59%\n",
      "accuracy score: 80.21%\n",
      "model is 29.61 % more accurate than null accuracy\n",
      "train and test time: 78.89s\n",
      "--------------------------------------------------------------------------------\n",
      "Validation result for 100000 features\n"
     ]
    },
    {
     "name": "stderr",
     "output_type": "stream",
     "text": [
      "c:\\Users\\Frank\\AppData\\Local\\Programs\\Python\\Python310\\lib\\site-packages\\sklearn\\linear_model\\_logistic.py:458: ConvergenceWarning: lbfgs failed to converge (status=1):\n",
      "STOP: TOTAL NO. of ITERATIONS REACHED LIMIT.\n",
      "\n",
      "Increase the number of iterations (max_iter) or scale the data as shown in:\n",
      "    https://scikit-learn.org/stable/modules/preprocessing.html\n",
      "Please also refer to the documentation for alternative solver options:\n",
      "    https://scikit-learn.org/stable/modules/linear_model.html#logistic-regression\n",
      "  n_iter_i = _check_optimize_result(\n"
     ]
    },
    {
     "name": "stdout",
     "output_type": "stream",
     "text": [
      "null accuracy: 50.59%\n",
      "accuracy score: 80.25%\n",
      "model is 29.65 % more accurate than null accuracy\n",
      "train and test time: 80.28s\n",
      "--------------------------------------------------------------------------------\n"
     ]
    },
    {
     "data": {
      "text/plain": [
       "<matplotlib.legend.Legend at 0x27c70c4dab0>"
      ]
     },
     "execution_count": 5,
     "metadata": {},
     "output_type": "execute_result"
    },
    {
     "data": {
      "image/png": "[encoded data removed]",
      "text/plain": [
       "<Figure size 800x600 with 1 Axes>"
      ]
     },
     "metadata": {},
     "output_type": "display_data"
    }
   ],
   "source": [
    "# from sklearn.feature_extraction.text import CountVectorizer\n",
    "from sklearn.linear_model import LogisticRegression\n",
    "from sklearn.pipeline import Pipeline\n",
    "from sklearn.metrics import accuracy_score\n",
    "from sklearn.model_selection import train_test_split\n",
    "from sklearn.feature_extraction.text import TfidfVectorizer\n",
    "from time import time\n",
    "\n",
    "my_df = pd.read_csv('clean_tweets.csv', index_col=0)\n",
    "x = my_df.clean_text\n",
    "y = my_df.target\n",
    "x_train, x_validation_and_test, y_train, y_validation_and_test = train_test_split(x, y, test_size=.02, random_state=42)\n",
    "x_validation, x_test, y_validation, y_test = train_test_split(x_validation_and_test, y_validation_and_test, test_size=.5, random_state=42)\n",
    "\n",
    "def accuracy_summary(pipeline, x_train, y_train, x_test, y_test):\n",
    "    null_accuracy = len(x_test[y_test == 0])/len(x_test) if len(x_test[y_test == 0])/len(x_test) > 0.5 else 1 - len(x_test[y_test == 0])/len(x_test)\n",
    "    \n",
    "    t0 = time()\n",
    "    sentiment_fit = pipeline.fit(x_train, y_train)\n",
    "    y_pred = sentiment_fit.predict(x_test)\n",
    "    train_test_time = time() - t0\n",
    "    \n",
    "    accuracy = accuracy_score(y_test, y_pred)\n",
    "    print(\"null accuracy: {0:.2f}%\".format(null_accuracy*100))\n",
    "    print(\"accuracy score: {0:.2f}%\".format(accuracy*100))\n",
    "    \n",
    "    if accuracy > null_accuracy:\n",
    "        print(\"model is {0:.2f} % more accurate than null accuracy\".format((accuracy-null_accuracy)*100))\n",
    "    elif accuracy == null_accuracy:\n",
    "        print(\"model has the same accuracy with the null accuracy\")\n",
    "    else:\n",
    "        print(\"model is {0:.2f}% less accurate than null accuracy\".format((null_accuracy-accuracy)*100))\n",
    "    print(\"train and test time: {0:.2f}s\".format(train_test_time))\n",
    "    print(\"-\"*80)\n",
    "    \n",
    "    return accuracy, train_test_time\n",
    "\n",
    "# cvec = CountVectorizer()\n",
    "tvec = TfidfVectorizer()\n",
    "lr = LogisticRegression()\n",
    "n_features = np.arange(10000,100001,10000)\n",
    "\n",
    "def nfeature_accuracy_checker(vectorizer=tvec, n_features=n_features, stop_words=None, ngram_range=(1, 1), classifier=lr):\n",
    "    result = []\n",
    "\n",
    "    for n in n_features:\n",
    "        vectorizer.set_params(stop_words=stop_words, max_features=n, ngram_range=ngram_range)\n",
    "        checker_pipeline = Pipeline([\n",
    "            ('vectorizer', vectorizer),\n",
    "            ('classifier', classifier)\n",
    "        ])\n",
    "        print(\"Validation result for {} features\".format(n))\n",
    "        \n",
    "        nfeature_accuracy,tt_time = accuracy_summary(checker_pipeline, x_train, y_train, x_validation, y_validation)\n",
    "        result.append((n,nfeature_accuracy,tt_time))\n",
    "    \n",
    "    return result\n",
    "\n",
    "feature_result_tgt = nfeature_accuracy_checker(ngram_range=(1, 3))\n",
    "\n",
    "nfeatures_plot_tgt = pd.DataFrame(feature_result_tgt,columns=['nfeatures','validation_accuracy','train_test_time'])\n",
    "\n",
    "plt.figure(figsize=(8,6))\n",
    "plt.plot(nfeatures_plot_tgt.nfeatures, nfeatures_plot_tgt.validation_accuracy,label='trigram tfidf vectorizer',color='royalblue')\n",
    "plt.title(\"3-gram test result : Accuracy\")\n",
    "plt.xlabel(\"Number of features\")\n",
    "plt.ylabel(\"Validation set accuracy\")\n",
    "plt.legend()"
   ]
  },
  {
   "cell_type": "code",
   "execution_count": 40,
   "metadata": {},
   "outputs": [
    {
     "data": {
      "text/html": [
       "<style>#sk-container-id-4 {color: black;background-color: white;}#sk-container-id-4 pre{padding: 0;}#sk-container-id-4 div.sk-toggleable {background-color: white;}#sk-container-id-4 label.sk-toggleable__label {cursor: pointer;display: block;width: 100%;margin-bottom: 0;padding: 0.3em;box-sizing: border-box;text-align: center;}#sk-container-id-4 label.sk-toggleable__label-arrow:before {content: \"▸\";float: left;margin-right: 0.25em;color: #696969;}#sk-container-id-4 label.sk-toggleable__label-arrow:hover:before {color: black;}#sk-container-id-4 div.sk-estimator:hover label.sk-toggleable__label-arrow:before {color: black;}#sk-container-id-4 div.sk-toggleable__content {max-height: 0;max-width: 0;overflow: hidden;text-align: left;background-color: #f0f8ff;}#sk-container-id-4 div.sk-toggleable__content pre {margin: 0.2em;color: black;border-radius: 0.25em;background-color: #f0f8ff;}#sk-container-id-4 input.sk-toggleable__control:checked~div.sk-toggleable__content {max-height: 200px;max-width: 100%;overflow: auto;}#sk-container-id-4 input.sk-toggleable__control:checked~label.sk-toggleable__label-arrow:before {content: \"▾\";}#sk-container-id-4 div.sk-estimator input.sk-toggleable__control:checked~label.sk-toggleable__label {background-color: #d4ebff;}#sk-container-id-4 div.sk-label input.sk-toggleable__control:checked~label.sk-toggleable__label {background-color: #d4ebff;}#sk-container-id-4 input.sk-hidden--visually {border: 0;clip: rect(1px 1px 1px 1px);clip: rect(1px, 1px, 1px, 1px);height: 1px;margin: -1px;overflow: hidden;padding: 0;position: absolute;width: 1px;}#sk-container-id-4 div.sk-estimator {font-family: monospace;background-color: #f0f8ff;border: 1px dotted black;border-radius: 0.25em;box-sizing: border-box;margin-bottom: 0.5em;}#sk-container-id-4 div.sk-estimator:hover {background-color: #d4ebff;}#sk-container-id-4 div.sk-parallel-item::after {content: \"\";width: 100%;border-bottom: 1px solid gray;flex-grow: 1;}#sk-container-id-4 div.sk-label:hover label.sk-toggleable__label {background-color: #d4ebff;}#sk-container-id-4 div.sk-serial::before {content: \"\";position: absolute;border-left: 1px solid gray;box-sizing: border-box;top: 0;bottom: 0;left: 50%;z-index: 0;}#sk-container-id-4 div.sk-serial {display: flex;flex-direction: column;align-items: center;background-color: white;padding-right: 0.2em;padding-left: 0.2em;position: relative;}#sk-container-id-4 div.sk-item {position: relative;z-index: 1;}#sk-container-id-4 div.sk-parallel {display: flex;align-items: stretch;justify-content: center;background-color: white;position: relative;}#sk-container-id-4 div.sk-item::before, #sk-container-id-4 div.sk-parallel-item::before {content: \"\";position: absolute;border-left: 1px solid gray;box-sizing: border-box;top: 0;bottom: 0;left: 50%;z-index: -1;}#sk-container-id-4 div.sk-parallel-item {display: flex;flex-direction: column;z-index: 1;position: relative;background-color: white;}#sk-container-id-4 div.sk-parallel-item:first-child::after {align-self: flex-end;width: 50%;}#sk-container-id-4 div.sk-parallel-item:last-child::after {align-self: flex-start;width: 50%;}#sk-container-id-4 div.sk-parallel-item:only-child::after {width: 0;}#sk-container-id-4 div.sk-dashed-wrapped {border: 1px dashed gray;margin: 0 0.4em 0.5em 0.4em;box-sizing: border-box;padding-bottom: 0.4em;background-color: white;}#sk-container-id-4 div.sk-label label {font-family: monospace;font-weight: bold;display: inline-block;line-height: 1.2em;}#sk-container-id-4 div.sk-label-container {text-align: center;}#sk-container-id-4 div.sk-container {/* jupyter's `normalize.less` sets `[hidden] { display: none; }` but bootstrap.min.css set `[hidden] { display: none !important; }` so we also need the `!important` here to be able to override the default hidden behavior on the sphinx rendered scikit-learn.org. See: https://github.com/scikit-learn/scikit-learn/issues/21755 */display: inline-block !important;position: relative;}#sk-container-id-4 div.sk-text-repr-fallback {display: none;}</style><div id=\"sk-container-id-4\" class=\"sk-top-container\"><div class=\"sk-text-repr-fallback\"><pre>TfidfVectorizer(max_features=70000, ngram_range=(1, 3),\n",
       "                stop_words=[&#x27;a&#x27;, &#x27;about&#x27;, &#x27;above&#x27;, &#x27;after&#x27;, &#x27;again&#x27;, &#x27;ain&#x27;,\n",
       "                            &#x27;all&#x27;, &#x27;am&#x27;, &#x27;an&#x27;, &#x27;and&#x27;, &#x27;any&#x27;, &#x27;are&#x27;, &#x27;as&#x27;, &#x27;at&#x27;,\n",
       "                            &#x27;be&#x27;, &#x27;because&#x27;, &#x27;been&#x27;, &#x27;before&#x27;, &#x27;being&#x27;, &#x27;below&#x27;,\n",
       "                            &#x27;between&#x27;, &#x27;both&#x27;, &#x27;by&#x27;, &#x27;can&#x27;, &#x27;d&#x27;, &#x27;did&#x27;, &#x27;do&#x27;,\n",
       "                            &#x27;does&#x27;, &#x27;doing&#x27;, &#x27;down&#x27;, ...])</pre><b>In a Jupyter environment, please rerun this cell to show the HTML representation or trust the notebook. <br />On GitHub, the HTML representation is unable to render, please try loading this page with nbviewer.org.</b></div><div class=\"sk-container\" hidden><div class=\"sk-item\"><div class=\"sk-estimator sk-toggleable\"><input class=\"sk-toggleable__control sk-hidden--visually\" id=\"sk-estimator-id-4\" type=\"checkbox\" checked><label for=\"sk-estimator-id-4\" class=\"sk-toggleable__label sk-toggleable__label-arrow\">TfidfVectorizer</label><div class=\"sk-toggleable__content\"><pre>TfidfVectorizer(max_features=70000, ngram_range=(1, 3),\n",
       "                stop_words=[&#x27;a&#x27;, &#x27;about&#x27;, &#x27;above&#x27;, &#x27;after&#x27;, &#x27;again&#x27;, &#x27;ain&#x27;,\n",
       "                            &#x27;all&#x27;, &#x27;am&#x27;, &#x27;an&#x27;, &#x27;and&#x27;, &#x27;any&#x27;, &#x27;are&#x27;, &#x27;as&#x27;, &#x27;at&#x27;,\n",
       "                            &#x27;be&#x27;, &#x27;because&#x27;, &#x27;been&#x27;, &#x27;before&#x27;, &#x27;being&#x27;, &#x27;below&#x27;,\n",
       "                            &#x27;between&#x27;, &#x27;both&#x27;, &#x27;by&#x27;, &#x27;can&#x27;, &#x27;d&#x27;, &#x27;did&#x27;, &#x27;do&#x27;,\n",
       "                            &#x27;does&#x27;, &#x27;doing&#x27;, &#x27;down&#x27;, ...])</pre></div></div></div></div></div>"
      ],
      "text/plain": [
       "TfidfVectorizer(max_features=70000, ngram_range=(1, 3),\n",
       "                stop_words=['a', 'about', 'above', 'after', 'again', 'ain',\n",
       "                            'all', 'am', 'an', 'and', 'any', 'are', 'as', 'at',\n",
       "                            'be', 'because', 'been', 'before', 'being', 'below',\n",
       "                            'between', 'both', 'by', 'can', 'd', 'did', 'do',\n",
       "                            'does', 'doing', 'down', ...])"
      ]
     },
     "execution_count": 40,
     "metadata": {},
     "output_type": "execute_result"
    }
   ],
   "source": [
    "# Hyperparameter tuning: training a model with 70000 features, as this was the best performing classifier last time\n",
    "model_df = pd.read_csv('clean_tweets_with_stopwords.csv', index_col=0)\n",
    "x_model = model_df.clean_text\n",
    "y_model = model_df.target\n",
    "x_train_model, x_validation_and_test_model, y_train_model, y_validation_and_test_model = train_test_split(x_model, y_model, test_size=.02, random_state=42)\n",
    "x_validation_model, x_test_model, y_validation_model, y_test_model = train_test_split(x_validation_and_test_model, y_validation_and_test_model, test_size=.5, random_state=42)\n",
    "\n",
    "ALT_STOPWORDS = ['a', 'about', 'above', 'after', 'again', 'ain', 'all', 'am', 'an',\n",
    "                'and','any','are', 'as', 'at', 'be', 'because', 'been', 'before',\n",
    "                'being', 'below', 'between','both', 'by', 'can', 'd', 'did', 'do',\n",
    "                'does', 'doing', 'down', 'during', 'each','few', 'for', 'from',\n",
    "                'further', 'had', 'has', 'have', 'having', 'he', 'her', 'here',\n",
    "                'hers', 'herself', 'him', 'himself', 'his', 'how', 'i', 'if', 'in',\n",
    "                'into','is', 'it', 'its', 'itself', 'just', 'll', 'm', 'ma',\n",
    "                'me', 'more', 'most','my', 'myself', 'now', 'o', 'of', 'on', 'once',\n",
    "                'only', 'or', 'other', 'our', 'ours','ourselves', 'out', 'own', 're','s', \n",
    "                'same', 'she', \"shes\", 'should', \"shouldve\",'so', 'some', 'such',\n",
    "                't', 'than', 'that', \"thatll\", 'the', 'their', 'theirs', 'them',\n",
    "                'themselves', 'then', 'there', 'these', 'they', 'this', 'those',\n",
    "                'through', 'to', 'too','under', 'until', 'up', 've', 'very', 'was',\n",
    "                'we', 'were', 'what', 'when', 'where','which','while', 'who', 'whom',\n",
    "                'why', 'will', 'with', 'won', 'y', 'you', \"youd\",\"youll\", \"youre\",\n",
    "                \"youve\", 'your', 'yours', 'yourself', 'yourselves']\n",
    "\n",
    "tvec_model = TfidfVectorizer()\n",
    "tvec_model.set_params(stop_words=ALT_STOPWORDS, max_features=70000, ngram_range=(1,3))"
   ]
  },
  {
   "cell_type": "code",
   "execution_count": 42,
   "metadata": {},
   "outputs": [
    {
     "name": "stdout",
     "output_type": "stream",
     "text": [
      "Validation result for 70000 features\n",
      "null accuracy: 50.39%\n",
      "accuracy score: 81.58%\n",
      "model is 31.19 % more accurate than null accuracy\n",
      "train and test time: 132.32s\n",
      "--------------------------------------------------------------------------------\n"
     ]
    },
    {
     "data": {
      "text/plain": [
       "(0.815812554817692, 132.31815576553345)"
      ]
     },
     "execution_count": 42,
     "metadata": {},
     "output_type": "execute_result"
    }
   ],
   "source": [
    "lr_model = LogisticRegression(max_iter=1000)\n",
    "\n",
    "checker_pipeline = Pipeline([\n",
    "    ('vectorizer', tvec_model),\n",
    "    ('classifier', lr_model)\n",
    "])\n",
    "\n",
    "print(\"Validation result for {} features\".format(tvec_model.max_features))\n",
    "accuracy_summary(checker_pipeline, x_train_model, y_train_model, x_validation_model, y_validation_model)"
   ]
  },
  {
   "cell_type": "code",
   "execution_count": 36,
   "metadata": {},
   "outputs": [
    {
     "name": "stdout",
     "output_type": "stream",
     "text": [
      "Validation result for 70000 features\n",
      "null accuracy: 50.59%\n",
      "accuracy score: 75.95%\n",
      "model is 25.36 % more accurate than null accuracy\n",
      "train and test time: 85.06s\n",
      "--------------------------------------------------------------------------------\n"
     ]
    },
    {
     "data": {
      "text/plain": [
       "(0.7595000314050625, 85.05881237983704)"
      ]
     },
     "execution_count": 36,
     "metadata": {},
     "output_type": "execute_result"
    }
   ],
   "source": [
    "from sklearn.linear_model import SGDClassifier\n",
    "\n",
    "clf = SGDClassifier()\n",
    "# tvec_model = TfidfVectorizer()\n",
    "# tvec_model.set_params(stop_words=None, max_features=100000, ngram_range=(1,3))\n",
    "\n",
    "checker_pipeline = Pipeline([\n",
    "    ('vectorizer', tvec_model),\n",
    "    ('classifier', clf)\n",
    "])\n",
    "\n",
    "print(\"Validation result for {} features\".format(tvec_model.max_features))\n",
    "accuracy_summary(checker_pipeline, x_train_model, y_train_model, x_validation_model, y_validation_model)"
   ]
  },
  {
   "cell_type": "code",
   "execution_count": 44,
   "metadata": {},
   "outputs": [],
   "source": [
    "# saving model\n",
    "import pickle\n",
    "\n",
    "model_df = pd.read_csv('clean_tweets_with_stopwords.csv', index_col=0)\n",
    "x_model = model_df.clean_text\n",
    "y_model = model_df.target\n",
    "\n",
    "tvec_model = TfidfVectorizer()\n",
    "tvec_model.set_params(stop_words=None, max_features=70000, ngram_range=(1,3))\n",
    "lr_model = LogisticRegression(max_iter=1000)\n",
    "\n",
    "model_pipeline = Pipeline([\n",
    "    ('vectorizer', tvec_model),\n",
    "    ('classifier', lr_model)\n",
    "])\n",
    "\n",
    "model = model_pipeline.fit(x_model, y_model)\n",
    "\n",
    "pickle.dump(model, open('final_model.sav', 'wb'))"
   ]
  },
  {
   "cell_type": "code",
   "execution_count": 81,
   "metadata": {},
   "outputs": [
    {
     "name": "stdout",
     "output_type": "stream",
     "text": [
      "0 In 2019, Morgan Stanley forecast that Tesla would only sell 71k in China in any year. Tesla delivered 76,663 in March 2023 alone. https://t.co/MTLeOQh38r\n",
      "1 @strengthPlan We’ll have to wait until Tesla Energy is more than a rounding error.   \n",
      "\n",
      "Wall St. will notice by the end of this year, and Tesla Energy will rival auto sales by the end of ‘24.  \n",
      "\n",
      "Hang in there👍\n",
      "2 Deja vu. Tesla promised the same thing a year ago. They were lying then, so are they finally telling the truth now? 🤔\n",
      "\n",
      "https://t.co/W8IYLpAAc2\n",
      "3 @TheEconomist Tesla Megapacks offer inertia to the grid, problem is already solved\n",
      "\n",
      "https://t.co/EW5P2SFCd6\n",
      "4 @elonmusk If you tweet my name I'll trade my domain for a Tesla.\n",
      "😂😂😂\n",
      "\n",
      "Unbelievable 🤣 https://t.co/SywqPpDDef\n",
      "5 @Teslaconomics @elonmusk Can Tesla sort out the park assist first? Waited 6 months for Tesla vision software update to find that it works intermittently in bad weather or uf any of the cameras have water on them ….I live in the Uk 🤷🏻‍♂️\n",
      "6 @elonmusk I can’t afford a Tesla here in Australia, I transport them to dealers and I really really want one! Can I be a Tesla Influencer?\n",
      "7 ✋‼️ #Trending #news for the hour: Arrival pulls a double SPAC, Tesla keeps slashing prices and New York Auto Show highlights \n",
      " Read news #summaries by clicking the card 👇⬇️ \n",
      " https://t.co/cl5WNcUT0H\n",
      "8 FYI 2022 Tesla’s non-GAAP net profit was about $14B. https://t.co/OB9qA6jYvR\n",
      "9 @MadScientistFF Model 3. Trying to flex but you’re too poor to get a real Tesla\n"
     ]
    }
   ],
   "source": [
    "import tweepy\n",
    "import os\n",
    "from dotenv import load_dotenv\n",
    "\n",
    "load_dotenv()\n",
    "\n",
    "consumer_key = os.getenv('API_KEY')\n",
    "consumer_secret = os.getenv('API_KEY_SECRET')\n",
    "access_token = os.getenv('ACCESS_TOKEN')\n",
    "access_token_secret = os.getenv('ACCESS_TOKEN_SECRET')\n",
    "bearer_token = os.getenv('BEARER_TOKEN')\n",
    "\n",
    "client = tweepy.Client(bearer_token)\n",
    "\n",
    "auth = tweepy.OAuthHandler(consumer_key, consumer_secret)\n",
    "auth.set_access_token(access_token, access_token_secret)\n",
    "api = tweepy.API(auth,wait_on_rate_limit=True)\n",
    "api = tweepy.API(auth)\n",
    "\n",
    "search_word = 'tesla' \n",
    "filter_retweet = ' -is:retweet'\n",
    "filter_mentions = ' -has:mentions'\n",
    "filter_replies = ' -is:reply'\n",
    "filter_english = ' lang:en'\n",
    "date_since = '2023-01-01'\n",
    "\n",
    "tweets = client.search_recent_tweets(query=search_word+filter_retweet+filter_english)\n",
    "for i, tweet in enumerate(tweets.data):\n",
    "    print(i, tweet.text)"
   ]
  },
  {
   "cell_type": "code",
   "execution_count": 82,
   "metadata": {},
   "outputs": [],
   "source": [
    "model = pickle.load(open('final_model.sav', 'rb'))"
   ]
  },
  {
   "cell_type": "code",
   "execution_count": 84,
   "metadata": {},
   "outputs": [
    {
     "name": "stdout",
     "output_type": "stream",
     "text": [
      "@DredgeDiver @RealDanODowd @Tesla @elonmusk He actually shared my video and monetized it and shared it out of context, thankfully people have brains and watched more than 10 seconds like Dan did\n",
      "\n",
      "https://t.co/wsw7PnXqfl\n",
      "@aaronsayswhat1 @MadScientistFF I hate pulling up to a light with a Tesla. My car is pretty quick for a sedan (5.5 0-60) but any Tesla would easily smoke me if they think I'm trying to race. I don't typically floor it off the line but I do like to get up to speed quick and then cruise the allotted 5 or so over\n",
      "Hey @elonmusk, here a big fan of yours from India, please gift me a @tesla Cyber truck and I will be thankful if you will pay the import duty also. @tesla @mayemusk @grimes\n",
      "@TeslaBoomerMama @SawyerMerritt 5+ years driving Tesla cars and my only service cost has been screen wash from Amazon\n",
      "In 2019, Morgan Stanley forecast that Tesla would only sell 71k in China in any year. Tesla delivered 76,663 in March 2023 alone. https://t.co/MTLeOQh38r\n",
      "@strengthPlan We’ll have to wait until Tesla Energy is more than a rounding error.   \n",
      "\n",
      "Wall St. will notice by the end of this year, and Tesla Energy will rival auto sales by the end of ‘24.  \n",
      "\n",
      "Hang in there👍\n",
      "Deja vu. Tesla promised the same thing a year ago. They were lying then, so are they finally telling the truth now? 🤔\n",
      "\n",
      "https://t.co/W8IYLpAAc2\n",
      "@TheEconomist Tesla Megapacks offer inertia to the grid, problem is already solved\n",
      "\n",
      "https://t.co/EW5P2SFCd6\n",
      "@elonmusk If you tweet my name I'll trade my domain for a Tesla.\n",
      "😂😂😂\n",
      "\n",
      "Unbelievable 🤣 https://t.co/SywqPpDDef\n",
      "@Teslaconomics @elonmusk Can Tesla sort out the park assist first? Waited 6 months for Tesla vision software update to find that it works intermittently in bad weather or uf any of the cameras have water on them ….I live in the Uk 🤷🏻‍♂️\n",
      "@elonmusk I can’t afford a Tesla here in Australia, I transport them to dealers and I really really want one! Can I be a Tesla Influencer?\n",
      "✋‼️ #Trending #news for the hour: Arrival pulls a double SPAC, Tesla keeps slashing prices and New York Auto Show highlights \n",
      " Read news #summaries by clicking the card 👇⬇️ \n",
      " https://t.co/cl5WNcUT0H\n",
      "FYI 2022 Tesla’s non-GAAP net profit was about $14B. https://t.co/OB9qA6jYvR\n",
      "@MadScientistFF Model 3. Trying to flex but you’re too poor to get a real Tesla\n",
      "I think I want a Tesla\n",
      "@SawyerMerritt @OfficialTeslakr @Tesla @TeslaSolar @TeslaCharging @teslamotorsjp @Tesla_Asia @Tesla_Optimus @Tesla_Megapack @tesla_europe And Turkiye also @TeslaOwnersTRKY\n",
      "The new Tesla? https://t.co/oeAnZCmjTc\n",
      "@MoneybaII_R Expect the #models and #modelx #tesla to be here soon… ⬆️\n",
      "@FSDbetaa @RealDanODowd @Tesla @elonmusk Maybe he thinks you are a Tesla troll. I am sure if your question was relevant he would answer it. Most Tesla fans have no idea of Dan's real world experience and achievements. So Tesla fans questioning Dan's answers and comments show extreme stupidity with their negativity.\n",
      "Tesla Unveils 240 MW Megapack System for California Flats Renewable Energy Project - https://t.co/mYvt5Pws5m https://t.co/fDxSH9C1gM\n",
      "https://t.co/IqxhhDrXw7 - Tesla Cuts Prices. Again.\n",
      "\n",
      "NEW\n",
      "\n",
      "$TSLA #Tesla #TeslaStock #ElonMusk https://t.co/S86cGBRQg0\n",
      "This is God’s Country / Tesla Model 3 country. Full rear piece nano ceramic with visor strip. Now a little shine and full frontal PPF. Ready to roll. Get scheduled online before the week fills up here: https://t.co/w7SNOVneG2 #tesla #teslamodel3 #model3 #tint #ppf #tinting https://t.co/6XgJn4gw7X\n",
      "Elon Musk Does It Again! Endorses #Dogecoin , Says He'll Keep Buying The Meme Coin - Tesla (NASDAQ:TSLA) - Benzinga https://t.co/Jvq5Y7BqTg\n",
      "is playing Tesla - Modern Day Cowboy [Listeners: 3/32] https://t.co/qNIdEnzdWX\n",
      "is playing Tesla - Modern Day Cowboy [Listeners: 3/32] https://t.co/WwmeYdFJUY\n",
      "@DonColeteslafan As Tesla continues growth and accelerates it!\n",
      "🇺🇸 NEW 23 MY LR7 in Blue/Black/20 with 0 Miles in Houston, TX, US (Houston-17589) for $59,990 🚩 Reserve @ https://t.co/Wr7pFasPf8 &amp; Details @ https://t.co/zeNEnEZhkA\n",
      "🇺🇸 NEW 23 MY LR7 in Red/Black/20 with 2 Miles in Plano, TX, US (Plano-5800 Democracy Drive-2859) for $61,990 🚩 Reserve @ https://t.co/zpwCYbrSiB &amp; Details @ https://t.co/vlJxTvsmBo\n",
      "🇺🇸 NEW 23 MY LR7 in Silver/Black/20 with 3 Miles in Knoxville, TN, US for $59,990 🚩 Reserve @ https://t.co/uZUNbQF358 &amp; Details @ https://t.co/WNv0or1Ek0\n",
      "🇺🇸 NEW 23 MY LR5 in Blue/Black/20 with 0 Miles in Roswell, GA, US for $55,990 🚩 Reserve @ https://t.co/gA56py5AJA &amp; Details @ https://t.co/5uIpgMiaM0\n",
      "🇺🇸 NEW 23 MY LR7 in Red/Black/20 with 0 Miles in Nesconset, NY, US for $60,990 🚩 Reserve @ https://t.co/ARKB0d5JLp &amp; Details @ https://t.co/EavDrtwv0x\n",
      "🇺🇸 NEW 23 MY LR5 in Silver/Black/20 with 3 Miles in Paramus, NJ, US for $55,990 🚩 Reserve @ https://t.co/n6bpbRr4KV &amp; Details @ https://t.co/pisbwBKPTt\n",
      "🇺🇸 NEW 23 MY LR5 in Silver/Black/19 with 0 Miles in Nesconset, NY, US for $53,990 🚩 Reserve @ https://t.co/oOGI8BXlD1 &amp; Details @ https://t.co/VZ7xzBYTzR\n",
      "🇨🇦 NEW 23 MY LR7 in Black/Black/20 with 5 Km in Laval, QC, CA for CA$79,890 🚩 Reserve @ https://t.co/X6rmvQGsbq &amp; Details @ https://t.co/QyMueKD7p9\n",
      "#Tesla’s China total market share 2018-2023: https://t.co/IpZpIZ80GG\n",
      "“Put up or shut up” @elonmusk \n",
      "\n",
      "Tesla's Entry Into The Net Zero Game: \"Sustainable Energy For All Of Earth\" https://t.co/qC535aDxCK\n",
      "🇺🇸 NEW 23 M3 PERF in Black/Black/20 with 3 Miles in Irvine, CA, US for $54,490 🚩 Reserve @ https://t.co/avDOJLvcB0 &amp; Details @ https://t.co/8cNRa3Zia6\n",
      "🇺🇸 NEW 23 M3 PERF in Black/Black/20 with 3 Miles in Dedham, MA, US for $54,490 🚩 Reserve @ https://t.co/GFljmI60fZ &amp; Details @ https://t.co/7onWLgfEXR\n",
      "🇺🇸 NEW 23 M3 PERF in Gray/Black/20 with 0 Miles in Paramus, NJ, US for $53,990 🚩 Reserve @ https://t.co/K2QbTRbEeB &amp; Details @ https://t.co/vtlKmMIl5B\n",
      "🇺🇸 NEW 23 M3 PERF in Gray/Black/20 with 3 Miles in Aurora, CO, US for $53,990 🚩 Reserve @ https://t.co/b3NGB0CppE &amp; Details @ https://t.co/vqb748MZHc\n",
      "@elonmusk @SmokeAwayyy Elon, have Tesla accept Bitcoin as payment again please\n",
      "-Apple's sales off\n",
      "-Tesla cutting prices 5 times in 2023 alone\n",
      "\n",
      "Both of these market to the affluent.\n",
      "\n",
      "Combine this with rising short term rates, bank weaknesses, and a shaky commercial real estate... Is this an ominous sign for more bad news to come?\n",
      "\n",
      "https://t.co/KhIQYifXrH\n",
      "Tesla (TSLA) cuts prices for its EVs in the US by between 2% and nearly 6% as the company continues a discount campaign that some fear will affect profitability. https://t.co/anjMrV8VPb https://t.co/EarC2PinsA\n",
      "Tesla's software is dogshit, and it's perhaps *the* key reason we were delighted to sell our Model S last week in favor of a BMW plug-in hybrid that supports—you guessed it—CarPlay. https://t.co/WQSL5sROxF\n",
      "@mpgenchau @WholeMarsBlog Check out the April 6 and 7 threads by @MatthewDR comparing out the door prices for Tesla Model 3 vs Toyota Prius in 20 US markets!  Tesla Model 3 is a far superior car🥰\n",
      "@sgerard696 Agree!  Comparing the announced cost of GigaMexico to other announced projects paints a clear picture.  Will do a thread on that soon. Same with Tesla battery factories to other announced battery factories.\n",
      "“You will live to see man-made horrors beyond your comprehension.” ~ Nikola Tesla https://t.co/HvHUJ5vyg3\n",
      "@TeslaCharging @elonmusk What charges the Superchargers? #Trivia Gas. Propane is being used to charge the giant batteries that charge the EVs in CA and TX, because the grid can’t handle the output. Buy stocks in propane companies. Also. Buy in Ganfeng Lithium. It’s a CCP owned company. Tesla loves slaves\n",
      "@QuentinWillson @Hertz @Tesla @NASAKennedy But NO!\n",
      "Fine for a M3 .try getting something larger 4 adults, 4 large suitcases and 4 Cabin sized bags on a Road Trip. Model X suited but ZERO for rental apart from TURO…a massive financial gamble!\n",
      " We are now in a stupid Chrysler Pacifica 😴😴🦕🦖\n",
      "\n",
      "https://t.co/O1kKStXw2I\n",
      "@daringfireball Tesla's software is dogshit, and it's perhaps *the* key reason we were delighted to sell our Model S last week in favor of a BMW plug-in hybrid that supports—you guessed it—CarPlay.\n",
      "@IsaacKing314 @foomagemindset 4. An AI intentionally causes any harm at all (due to emergent intentionality). I don't think any objective observer could claim Tesla's cars that have crashed were intentionally trying to hurt people -- they don't have emergent intentionality yet; the intentionality is designed.\n",
      "@SawyerMerritt They also have an incentive to provide good service. Unlike tesla. I would get loaners, fast service, and much more premium experience. Tesla took my vehicle for 2 weeks due to a battery failure and gave me Uber credits. Mercedes provides me with good loaners every single time.\n",
      "Lawsuit: Tesla must be punished for “tasteless” sharing of car-camera images https://t.co/wXF5iDv2oa (https://t.co/x4fUP7tW68)\n",
      "@QuantumFekT @Michaeldoge420 @nachodelaheysus @IamCelineMarie @StarshipDock @tearsintherain1 @lottkaren54 @Lionelclone1 @ALi3NKAT @TheKatsKid1 @safferpsyche @memesus77 @SpadersNFTs @AndreMillaire @Rajtwittz @DogeAccept @musicphantom69 @jewel_gardener @d1dave123 @dawnheartLRPS @sofakingdoge2nd @kym_head @YeshuaisSavior @PiaPanda96 @PleiadesPlZ @YadiraRussell9 @YOUniverse999 @MaximoBanksy @bugaloo_2 @13dogecoin @boozelee86 @h_artsNcrafts @MarshaW15161057 @codehurtsbrain @elonmusk @Tesla @Tesla_Megapack @Grimezsz @dogecoin @Nike @SpaceCrystalZ @historydefined @HistoryInPics @NelsonMandela @YourHomeMars @SpaceX So awesome\n",
      "@memesus77 @QuantumFekT @nachodelaheysus @IamCelineMarie @StarshipDock @tearsintherain1 @lottkaren54 @Lionelclone1 @ALi3NKAT @PryZmRuleZZ @TheKatsKid1 @safferpsyche @SpadersNFTs @AndreMillaire @Rajtwittz @DogeAccept @musicphantom69 @jewel_gardener @d1dave123 @dawnheartLRPS @sofakingdoge2nd @kym_head @YeshuaisSavior @PiaPanda96 @PleiadesPlZ @YadiraRussell9 @YOUniverse999 @MaximoBanksy @bugaloo_2 @13dogecoin @boozelee86 @h_artsNcrafts @MarshaW15161057 @codehurtsbrain @elonmusk @Tesla @Tesla_Megapack @Grimezsz @dogecoin @Nike @SpaceCrystalZ @historydefined @HistoryInPics @NelsonMandela @YourHomeMars @SpaceX Sleep well♥️\n",
      "@jlbourne @Tesla For every tweet this dumb, we need 4 more with actual brain involved.\n",
      "Awards by Elon Musk 👏 \n",
      "\n",
      "Musk was awarded as member (fifth class) of the Most Admirable Order of the Direkgunabhorn on March 4, 2019, for his contribution in the rescue at Tham Luang cave, Chiang Rai Province, Thailand.\n",
      "\n",
      "@elonmusk\n",
      "\n",
      "#motivation #Tesla #myhero https://t.co/l6nYjGGyzC\n",
      "@LordofAnime @BobbyAllyn So does Tesla. It's been the basis of the company's income--they don't sell many cars, but they sell tons of regulatory credits they earn by not making internal combustion cars to companies that do make them. https://t.co/HWZFg0NDWv\n",
      "@js1960131 @C_S_Skeptic No,Elon himself says:\n",
      "\n",
      "\"Musk noted that he changed his title to “Technoking of Tesla” in a March regulatory filing. “I'm legally 'Technoking,'” he said. “I just did that as kind of, like, a joke — just to show that these titles don't mean a lot.”\n",
      "“Best product that Tesla has ever launched” means it only explodes 49% of the time https://t.co/pCURViKwnX\n",
      "New video by Solving The Money Problem: Tesla Cuts Prices. Again. https://t.co/d6zKbPD0Qg\n",
      "@memesus77 @QuantumFekT @nachodelaheysus @IamCelineMarie @StarshipDock @tearsintherain1 @lottkaren54 @Lionelclone1 @ALi3NKAT @PryZmRuleZZ @TheKatsKid1 @safferpsyche @SpadersNFTs @AndreMillaire @Rajtwittz @DogeAccept @musicphantom69 @jewel_gardener @d1dave123 @dawnheartLRPS @sofakingdoge2nd @kym_head @YeshuaisSavior @PiaPanda96 @PleiadesPlZ @YadiraRussell9 @YOUniverse999 @MaximoBanksy @bugaloo_2 @13dogecoin @boozelee86 @h_artsNcrafts @MarshaW15161057 @codehurtsbrain @elonmusk @Tesla @Tesla_Megapack @Grimezsz @dogecoin @Nike @SpaceCrystalZ @historydefined @HistoryInPics @NelsonMandela @YourHomeMars @SpaceX Beautiful😎\n",
      "elonmusk cb_doge Tesla mayemusk Tweet about #Lunc please! 🇧🇷🦾😁\n",
      "What's it take to get a ONE TIME for @elonmusk and Hairy Stinky Turds to RETWEET a STUPID WORTHLESS Tweet?...... lol @Tesla or @Cobratate @MrBeast would be way more awesomer haha\n",
      "TechInsider: How does Tesla's Model Y compare to Ford’s first EV? https://t.co/EpbsFxWaCj\n",
      "#TT @elonmusk @Tesla @SpaceX @SpaceXStarlink @SpaceXStarship @PolarisProgram @TeslaSolarglass @Twitter innovation on the road, in space, your business, your home, and everywhere else. #ElonMusk #Tesla #SpaceX #Starlink #Starship #Solarglass #PolarisProgram #Twitter https://t.co/QuYVXHRwJG\n",
      "@SawyerMerritt How dope would it be for Tesla to become part of X Corp Holdings and trade under a new ticker symbol.\n",
      "@L2CUZ_4D @DirtyTesLa Tesla are actually very good it’s just that their down bc our world is evolving meaning more car companies will be manufacturing more electric cars and vehicles that could probably step up to tesla\n",
      "@solar_gurus Battery against the law in NY due to fire hazard but 2 Tesla's in your garage is OK. (known to catch fire).\n",
      "#Tesla is opening a Megapack factory in #Shanghai  https://t.co/nn27skmwt4\n",
      "I shoulda let that dumb bitch in the tesla hit me with her car. She whipped outta that parking spot so fast I almost didn't dodge it for real. It woulda just been a bad bump and then I could act like a hero at work for still going in 🤣🤣\n",
      "#Tesla to build new #Megafactory in #Shanghai #China, to produce giant commercial batteries, or Megapacks, for electric producers and distributors to store electricity when it isn’t in demand\n",
      "\n",
      "This will “supplement output of Megapack factory in California” @elonmusk https://t.co/LnmBq5WD8l\n",
      "@HankMeninga @Tesla @elonmusk Money\n",
      "@hohocho @Tesla how can find the page ? \n",
      "I can't find it on app in Taiwan \n",
      "thx\n",
      "How does Tesla's Model Y compare to Ford’s first EV? https://t.co/zMtz8LK1Aa\n",
      "How does Tesla's Model Y compare to Ford’s first EV? https://t.co/mOf6SqutvX\n",
      "@Michaeldoge420 @memesus77 @nachodelaheysus @IamCelineMarie @StarshipDock @tearsintherain1 @lottkaren54 @Lionelclone1 @ALi3NKAT @PryZmRuleZZ @TheKatsKid1 @safferpsyche @SpadersNFTs @AndreMillaire @Rajtwittz @DogeAccept @musicphantom69 @jewel_gardener @d1dave123 @dawnheartLRPS @sofakingdoge2nd @kym_head @YeshuaisSavior @PiaPanda96 @PleiadesPlZ @YadiraRussell9 @YOUniverse999 @MaximoBanksy @bugaloo_2 @13dogecoin @boozelee86 @h_artsNcrafts @MarshaW15161057 @codehurtsbrain @elonmusk @Tesla @Tesla_Megapack @Grimezsz @dogecoin @Nike @SpaceCrystalZ @historydefined @HistoryInPics @NelsonMandela @YourHomeMars @SpaceX Love Love Love!! 😃💚🔥🔥✨️😎💐\n",
      "@21five_public @C_S_Skeptic Indeed\n",
      "\n",
      "\"Musk noted that he changed his title to “Technoking of Tesla” in a March regulatory filing. “I'm legally 'Technoking,'” he said. “I just did that as kind of, like, a joke — just to show that these titles don't mean a lot.\"\n",
      "\n",
      "He's right, he is a joke.\n",
      "@WeylinWebber @mymorristribe @MagixPunx @RealDanODowd @Tesla @elonmusk You didn’t understand his statement which prove you don’t know shit about FSD.  Former employee ? I don’t buy that\n",
      "Day #972 hey @elonmusk will you please give me a free new @Tesla\n",
      "1 big thing: Tesla can’t quit China https://t.co/85FPfcWwcm #axioscloser\n",
      "@JeanPascalMorin @ErnieLies @MargBarAmerica The way he runs twitter and Tesla, what hope is there for the Mars project?\n",
      "@teslacarsonly We'd like to see all fleet of fossil fuels run vehicles replaced by EV before 2030. Wondering if that target is achievable given the fact some governments are still bent to burn hydrocarbon only! Naturally they will be overwhelmed if Tesla and other companies ramp production. 🥂\n",
      "Awards by Elon Musk 👏 \n",
      "\n",
      "In 2018, Musk was ranked 25th on Forbes list of The World's Most Powerful People 🙌 \n",
      "\n",
      "@elonmusk \n",
      "\n",
      "#success #bestone #Tesla #SpaceX https://t.co/3ETzwyacst\n",
      "@atockboy @vidsthatgohard Tesla obviously 😂 prob them thighs\n",
      "New Auxiliary Coolant Water Pump For 2012-20021 Tesla Model https://t.co/5zqAmrdTpE eBay https://t.co/h5nyXlk2LD\n",
      "@positroneth @solidbadluck Doge \"driving\" a Gold glittery Candy Apple Red TESLA Roadster😍\n",
      "@TesLatino @Tesla 🚗🌟 Couldn't agree more! Tesla's innovation, reliability, &amp; strong brand identity create loyal customers like you. No need for ads when the product speaks for itself. @Tesla mission-driven approach &amp; excellent charging infrastructure are game-changers. Excited for your #TSLA\n",
      "@QuincyEdmundLee @itskyleconner @Tesla Why? The brakes weren’t designed for it either. Neither was the weight of the car.\n",
      "@Itchingforfight @John71Kee @TheDragonFeeder Tesla is a private company. How is it your business?\n",
      "@TimesAlgebraIND Tesla is about to make a shift from China to India....Make in India\n",
      "@SawyerMerritt This is still one of the biggest revenue generators IMHO not only are you buying car from Tesla you are buying the fuel!\n",
      "i’m a lot like nikola tesla in that my first love was an actual land snail\n",
      "@NicholusAndrews @Tesla @elonmusk Scam company - garbage car and ugly looking on top of it\n",
      "@memesus77 @Michaeldoge420 @nachodelaheysus @IamCelineMarie @StarshipDock @tearsintherain1 @lottkaren54 @Lionelclone1 @ALi3NKAT @PryZmRuleZZ @TheKatsKid1 @safferpsyche @SpadersNFTs @AndreMillaire @Rajtwittz @DogeAccept @musicphantom69 @jewel_gardener @d1dave123 @dawnheartLRPS @sofakingdoge2nd @kym_head @YeshuaisSavior @PiaPanda96 @PleiadesPlZ @YadiraRussell9 @YOUniverse999 @MaximoBanksy @bugaloo_2 @13dogecoin @boozelee86 @h_artsNcrafts @MarshaW15161057 @codehurtsbrain @elonmusk @Tesla @Tesla_Megapack @Grimezsz @dogecoin @Nike @SpaceCrystalZ @historydefined @HistoryInPics @NelsonMandela @YourHomeMars @SpaceX Yeah. I'm becoming frustrated about it, only because I was really excited to make some stuff\n",
      "@spleck oh my god where do you ever get off.\n",
      "No it doesn't.\n",
      "Not a single line of that talks about lane metadata.\n",
      "Lane metadata is the whole thing Tesla struggles with. Whatever souce they use for it is static and never seems to get fixed, over all the years I've had FSD/NoA.\n",
      "@NoddaWhale @memesus77 @QuantumFekT @d1dave123 @nachodelaheysus @IamCelineMarie @StarshipDock @tearsintherain1 @lottkaren54 @Lionelclone1 @ALi3NKAT @PryZmRuleZZ @TheKatsKid1 @safferpsyche @SpadersNFTs @AndreMillaire @Rajtwittz @DogeAccept @musicphantom69 @jewel_gardener @dawnheartLRPS @sofakingdoge2nd @kym_head @YeshuaisSavior @PiaPanda96 @PleiadesPlZ @YadiraRussell9 @YOUniverse999 @MaximoBanksy @bugaloo_2 @13dogecoin @boozelee86 @h_artsNcrafts @MarshaW15161057 @codehurtsbrain @elonmusk @Tesla @Tesla_Megapack @Grimezsz @dogecoin @Nike @SpaceCrystalZ @historydefined @HistoryInPics @NelsonMandela @YourHomeMars @SpaceX Agreed\n",
      "@SunFellaWarrior We must beat the Tesla lizards system to death\n",
      "@elonmusk sir when you launch Tesla model pie mobile\n",
      "@AnarchoNDN If they s word u I will fly to silicon valley and make a nice stroganoff out of tesla man's balls\n",
      "[4 0 4 0 0 0 4 4 4 0 0 0 4 0 4 4 4 4 4 4 0 4 4 4 4 4 4 4 4 4 4 4 4 4 4 4 4\n",
      " 4 4 4 4 0 4 4 0 0 4 0 0 4 0 0 0 4 4 0 4 4 4 4 0 4 4 4 4 4 4 4 0 4 0 0 0 0\n",
      " 4 4 4 4 0 4 0 4 0 4 4 4 4 4 0 4 0 4 4 0 4 0 4 0 4 4]\n",
      "2.72\n",
      "0.68\n"
     ]
    }
   ],
   "source": [
    "def sentiment_analyzer(model, tweets):\n",
    "    predicted_sentiments = model.predict(tweets)\n",
    "    print(predicted_sentiments)\n",
    "    print(sum(predicted_sentiments)/len(predicted_sentiments))\n",
    "    print((sum(predicted_sentiments)/len(predicted_sentiments))/4)\n",
    "\n",
    "tweets = client.search_recent_tweets(query=search_word+filter_retweet+filter_english, max_results=100)\n",
    "clean_tweets = []\n",
    "for tweet in tweets.data:\n",
    "    print(tweet.text)\n",
    "    clean_tweets.append(text_cleaner(tweet.text))\n",
    "\n",
    "sentiment_analyzer(model, clean_tweets)"
   ]
  }
 ],
 "metadata": {
  "kernelspec": {
   "display_name": "Python 3",
   "language": "python",
   "name": "python3"
  },
  "language_info": {
   "codemirror_mode": {
    "name": "ipython",
    "version": 3
   },
   "file_extension": ".py",
   "mimetype": "text/x-python",
   "name": "python",
   "nbconvert_exporter": "python",
   "pygments_lexer": "ipython3",
   "version": "3.10.7"
  },
  "orig_nbformat": 4,
  "vscode": {
   "interpreter": {
    "hash": "48ee2bf33b2352c788f912dcbd443677a6d486fb07c682736af629314ae144f2"
   }
  }
 },
 "nbformat": 4,
 "nbformat_minor": 2
}
