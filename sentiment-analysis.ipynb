{
 "cells": [
  {
   "cell_type": "code",
   "execution_count": 2,
   "metadata": {},
   "outputs": [
    {
     "data": {
      "text/html": [
       "<div>\n",
       "<style scoped>\n",
       "    .dataframe tbody tr th:only-of-type {\n",
       "        vertical-align: middle;\n",
       "    }\n",
       "\n",
       "    .dataframe tbody tr th {\n",
       "        vertical-align: top;\n",
       "    }\n",
       "\n",
       "    .dataframe thead th {\n",
       "        text-align: right;\n",
       "    }\n",
       "</style>\n",
       "<table border=\"1\" class=\"dataframe\">\n",
       "  <thead>\n",
       "    <tr style=\"text-align: right;\">\n",
       "      <th></th>\n",
       "      <th>sentiment</th>\n",
       "      <th>text</th>\n",
       "    </tr>\n",
       "  </thead>\n",
       "  <tbody>\n",
       "    <tr>\n",
       "      <th>0</th>\n",
       "      <td>0</td>\n",
       "      <td>@switchfoot http://twitpic.com/2y1zl - Awww, t...</td>\n",
       "    </tr>\n",
       "    <tr>\n",
       "      <th>1</th>\n",
       "      <td>0</td>\n",
       "      <td>is upset that he can't update his Facebook by ...</td>\n",
       "    </tr>\n",
       "    <tr>\n",
       "      <th>2</th>\n",
       "      <td>0</td>\n",
       "      <td>@Kenichan I dived many times for the ball. Man...</td>\n",
       "    </tr>\n",
       "    <tr>\n",
       "      <th>3</th>\n",
       "      <td>0</td>\n",
       "      <td>my whole body feels itchy and like its on fire</td>\n",
       "    </tr>\n",
       "    <tr>\n",
       "      <th>4</th>\n",
       "      <td>0</td>\n",
       "      <td>@nationwideclass no, it's not behaving at all....</td>\n",
       "    </tr>\n",
       "  </tbody>\n",
       "</table>\n",
       "</div>"
      ],
      "text/plain": [
       "   sentiment                                               text\n",
       "0          0  @switchfoot http://twitpic.com/2y1zl - Awww, t...\n",
       "1          0  is upset that he can't update his Facebook by ...\n",
       "2          0  @Kenichan I dived many times for the ball. Man...\n",
       "3          0    my whole body feels itchy and like its on fire \n",
       "4          0  @nationwideclass no, it's not behaving at all...."
      ]
     },
     "execution_count": 2,
     "metadata": {},
     "output_type": "execute_result"
    }
   ],
   "source": [
    "import pandas as pd  \n",
    "import numpy as np\n",
    "import matplotlib.pyplot as plt\n",
    "cols = ['sentiment','id','date','query_string','user','text']\n",
    "df = pd.read_csv(\"./training.1600000.processed.noemoticon.csv\",header=None, names=cols)\n",
    "df.drop(['id', 'date', 'query_string', 'user'], axis=1, inplace=True)\n",
    "df.head()"
   ]
  },
  {
   "cell_type": "code",
   "execution_count": 3,
   "metadata": {},
   "outputs": [
    {
     "name": "stdout",
     "output_type": "stream",
     "text": [
      "{'dataset_shape': (1600000, 3),\n",
      " 'pre_clean_len': {'description': 'Length of the tweet before cleaning',\n",
      "                   'type': dtype('int64')},\n",
      " 'sentiment': {'description': 'sentiment class - 0:negative, 1:positive',\n",
      "               'type': dtype('int64')},\n",
      " 'text': {'description': 'tweet text', 'type': dtype('O')}}\n"
     ]
    }
   ],
   "source": [
    "from pprint import pprint\n",
    "df['pre_clean_len'] = [len(t) for t in df.text]\n",
    "data_dict = {\n",
    "    'sentiment':{\n",
    "        'type': df.sentiment.dtype,\n",
    "        'description': 'sentiment class - 0:negative, 1:positive',\n",
    "    },\n",
    "    'text':{\n",
    "        'type': df.text.dtype,\n",
    "        'description': 'tweet text',\n",
    "    },\n",
    "    'pre_clean_len':{\n",
    "        'type': df.pre_clean_len.dtype,\n",
    "        'description': 'Length of the tweet before cleaning',\n",
    "    },\n",
    "    'dataset_shape': df.shape\n",
    "}\n",
    "\n",
    "pprint(data_dict)"
   ]
  },
  {
   "cell_type": "code",
   "execution_count": 59,
   "metadata": {},
   "outputs": [
    {
     "name": "stderr",
     "output_type": "stream",
     "text": [
      "c:\\Users\\Frank\\AppData\\Local\\Programs\\Python\\Python310\\lib\\site-packages\\bs4\\__init__.py:435: MarkupResemblesLocatorWarning: The input looks more like a filename than markup. You may want to open this file and pass the filehandle into Beautiful Soup.\n",
      "  warnings.warn(\n"
     ]
    },
    {
     "name": "stdout",
     "output_type": "stream",
     "text": [
      "10000 tweets have been cleaned\n",
      "20000 tweets have been cleaned\n",
      "30000 tweets have been cleaned\n",
      "40000 tweets have been cleaned\n",
      "50000 tweets have been cleaned\n",
      "60000 tweets have been cleaned\n",
      "70000 tweets have been cleaned\n",
      "80000 tweets have been cleaned\n",
      "90000 tweets have been cleaned\n",
      "100000 tweets have been cleaned\n",
      "110000 tweets have been cleaned\n",
      "120000 tweets have been cleaned\n",
      "130000 tweets have been cleaned\n",
      "140000 tweets have been cleaned\n",
      "150000 tweets have been cleaned\n",
      "160000 tweets have been cleaned\n",
      "170000 tweets have been cleaned\n",
      "180000 tweets have been cleaned\n",
      "190000 tweets have been cleaned\n",
      "200000 tweets have been cleaned\n",
      "210000 tweets have been cleaned\n",
      "220000 tweets have been cleaned\n",
      "230000 tweets have been cleaned\n",
      "240000 tweets have been cleaned\n",
      "250000 tweets have been cleaned\n",
      "260000 tweets have been cleaned\n",
      "270000 tweets have been cleaned\n",
      "280000 tweets have been cleaned\n",
      "290000 tweets have been cleaned\n",
      "300000 tweets have been cleaned\n",
      "310000 tweets have been cleaned\n",
      "320000 tweets have been cleaned\n",
      "330000 tweets have been cleaned\n",
      "340000 tweets have been cleaned\n",
      "350000 tweets have been cleaned\n",
      "360000 tweets have been cleaned\n",
      "370000 tweets have been cleaned\n",
      "380000 tweets have been cleaned\n",
      "390000 tweets have been cleaned\n",
      "400000 tweets have been cleaned\n",
      "410000 tweets have been cleaned\n",
      "420000 tweets have been cleaned\n",
      "430000 tweets have been cleaned\n",
      "440000 tweets have been cleaned\n",
      "450000 tweets have been cleaned\n",
      "460000 tweets have been cleaned\n",
      "470000 tweets have been cleaned\n",
      "480000 tweets have been cleaned\n",
      "490000 tweets have been cleaned\n",
      "500000 tweets have been cleaned\n",
      "510000 tweets have been cleaned\n",
      "520000 tweets have been cleaned\n",
      "530000 tweets have been cleaned\n",
      "540000 tweets have been cleaned\n",
      "550000 tweets have been cleaned\n",
      "560000 tweets have been cleaned\n",
      "570000 tweets have been cleaned\n",
      "580000 tweets have been cleaned\n",
      "590000 tweets have been cleaned\n",
      "600000 tweets have been cleaned\n",
      "610000 tweets have been cleaned\n",
      "620000 tweets have been cleaned\n",
      "630000 tweets have been cleaned\n",
      "640000 tweets have been cleaned\n",
      "650000 tweets have been cleaned\n",
      "660000 tweets have been cleaned\n",
      "670000 tweets have been cleaned\n",
      "680000 tweets have been cleaned\n",
      "690000 tweets have been cleaned\n",
      "700000 tweets have been cleaned\n",
      "710000 tweets have been cleaned\n",
      "720000 tweets have been cleaned\n",
      "730000 tweets have been cleaned\n",
      "740000 tweets have been cleaned\n",
      "750000 tweets have been cleaned\n",
      "760000 tweets have been cleaned\n",
      "770000 tweets have been cleaned\n",
      "780000 tweets have been cleaned\n",
      "790000 tweets have been cleaned\n",
      "800000 tweets have been cleaned\n",
      "810000 tweets have been cleaned\n",
      "820000 tweets have been cleaned\n",
      "830000 tweets have been cleaned\n",
      "840000 tweets have been cleaned\n",
      "850000 tweets have been cleaned\n",
      "860000 tweets have been cleaned\n",
      "870000 tweets have been cleaned\n",
      "880000 tweets have been cleaned\n",
      "890000 tweets have been cleaned\n",
      "900000 tweets have been cleaned\n",
      "910000 tweets have been cleaned\n",
      "920000 tweets have been cleaned\n",
      "930000 tweets have been cleaned\n",
      "940000 tweets have been cleaned\n",
      "950000 tweets have been cleaned\n",
      "960000 tweets have been cleaned\n",
      "970000 tweets have been cleaned\n",
      "980000 tweets have been cleaned\n",
      "990000 tweets have been cleaned\n",
      "1000000 tweets have been cleaned\n",
      "1010000 tweets have been cleaned\n",
      "1020000 tweets have been cleaned\n",
      "1030000 tweets have been cleaned\n",
      "1040000 tweets have been cleaned\n",
      "1050000 tweets have been cleaned\n",
      "1060000 tweets have been cleaned\n",
      "1070000 tweets have been cleaned\n",
      "1080000 tweets have been cleaned\n",
      "1090000 tweets have been cleaned\n",
      "1100000 tweets have been cleaned\n",
      "1110000 tweets have been cleaned\n",
      "1120000 tweets have been cleaned\n",
      "1130000 tweets have been cleaned\n",
      "1140000 tweets have been cleaned\n",
      "1150000 tweets have been cleaned\n",
      "1160000 tweets have been cleaned\n",
      "1170000 tweets have been cleaned\n",
      "1180000 tweets have been cleaned\n",
      "1190000 tweets have been cleaned\n",
      "1200000 tweets have been cleaned\n",
      "1210000 tweets have been cleaned\n",
      "1220000 tweets have been cleaned\n",
      "1230000 tweets have been cleaned\n",
      "1240000 tweets have been cleaned\n",
      "1250000 tweets have been cleaned\n",
      "1260000 tweets have been cleaned\n",
      "1270000 tweets have been cleaned\n",
      "1280000 tweets have been cleaned\n",
      "1290000 tweets have been cleaned\n",
      "1300000 tweets have been cleaned\n",
      "1310000 tweets have been cleaned\n",
      "1320000 tweets have been cleaned\n",
      "1330000 tweets have been cleaned\n",
      "1340000 tweets have been cleaned\n",
      "1350000 tweets have been cleaned\n",
      "1360000 tweets have been cleaned\n",
      "1370000 tweets have been cleaned\n",
      "1380000 tweets have been cleaned\n",
      "1390000 tweets have been cleaned\n",
      "1400000 tweets have been cleaned\n",
      "1410000 tweets have been cleaned\n",
      "1420000 tweets have been cleaned\n",
      "1430000 tweets have been cleaned\n",
      "1440000 tweets have been cleaned\n",
      "1450000 tweets have been cleaned\n",
      "1460000 tweets have been cleaned\n",
      "1470000 tweets have been cleaned\n",
      "1480000 tweets have been cleaned\n",
      "1490000 tweets have been cleaned\n",
      "1500000 tweets have been cleaned\n",
      "1510000 tweets have been cleaned\n",
      "1520000 tweets have been cleaned\n",
      "1530000 tweets have been cleaned\n",
      "1540000 tweets have been cleaned\n",
      "1550000 tweets have been cleaned\n",
      "1560000 tweets have been cleaned\n",
      "1570000 tweets have been cleaned\n",
      "1580000 tweets have been cleaned\n",
      "1590000 tweets have been cleaned\n",
      "1600000 tweets have been cleaned\n"
     ]
    }
   ],
   "source": [
    "from bs4 import BeautifulSoup\n",
    "import re\n",
    "from nltk.corpus import stopwords\n",
    "stopwords = stopwords.words('english')\n",
    "\n",
    "def text_cleaner(text):\n",
    "    # removes html encoding\n",
    "    temp = BeautifulSoup(text, 'lxml').get_text()\n",
    "    temp.replace(\"'\", \"\") # avoids removing contractions\n",
    "    # lowercase\n",
    "    temp = temp.lower()\n",
    "    # removes mentions\n",
    "    temp = re.sub(r'@[A-Za-z0-9_]+', '', temp)\n",
    "    # removes urls\n",
    "    temp = re.sub(r'https?://\\S+', '', temp)\n",
    "    temp = re.sub(r'www.\\S+', '', temp)\n",
    "    # removes all non letters\n",
    "    temp = re.sub(r'[&,.]', ' ', temp)\n",
    "    temp = re.sub(r'[^a-z\\s]+', '', temp)\n",
    "    # tokenizes and removes stopwords\n",
    "    # temp = re.sub('\\s+', ' ', temp)\n",
    "    temp = temp.split()\n",
    "    temp = [w for w in temp if w not in stopwords]\n",
    "    cleaned = \" \".join(word for word in temp)\n",
    "    cleaned = temp.strip()\n",
    "    return cleaned\n",
    "\n",
    "clean_tweets = []\n",
    "for i in range(len(df)):\n",
    "    if ((i+1) % 10000 == 0): print(\"%d tweets have been cleaned\" % (i+1))\n",
    "    clean_t = text_cleaner(df.text[i])\n",
    "    if clean_t: clean_tweets.append(clean_t)\n",
    "\n",
    "clean_tweets_with_stopwords = []\n",
    "# for i in range(len(df)):\n",
    "#     if ((i+1) % 10000 == 0): print(\"%d tweets have been cleaned\" % (i+1))\n",
    "#     clean_t = text_cleaner(df.text[i])\n",
    "#     if clean_t: clean_tweets_with_stopwords.append(clean_t)"
   ]
  },
  {
   "cell_type": "code",
   "execution_count": 45,
   "metadata": {},
   "outputs": [],
   "source": [
    "# note just setting 'target' to df.sentiment actually mislabels some of them oops\n",
    "clean_df = pd.DataFrame(clean_tweets, columns=['text'])\n",
    "clean_df['target'] = df.sentiment\n",
    "clean_df.to_csv('clean_tweets.csv', encoding='utf-8')"
   ]
  },
  {
   "cell_type": "code",
   "execution_count": 61,
   "metadata": {},
   "outputs": [],
   "source": [
    "clean_with_stopwords_df = pd.DataFrame(clean_tweets_with_stopwords, columns=['text'])\n",
    "clean_with_stopwords_df['target'] = df.sentiment\n",
    "clean_with_stopwords_df.to_csv('clean_tweets_with_stopwords.csv', encoding='utf-8')"
   ]
  },
  {
   "cell_type": "code",
   "execution_count": 63,
   "metadata": {},
   "outputs": [
    {
     "name": "stdout",
     "output_type": "stream",
     "text": [
      "LogisticRegression() \n",
      "\n",
      "Validation result for 10000 features\n"
     ]
    },
    {
     "name": "stderr",
     "output_type": "stream",
     "text": [
      "c:\\Users\\Frank\\AppData\\Local\\Programs\\Python\\Python310\\lib\\site-packages\\sklearn\\linear_model\\_logistic.py:458: ConvergenceWarning: lbfgs failed to converge (status=1):\n",
      "STOP: TOTAL NO. of ITERATIONS REACHED LIMIT.\n",
      "\n",
      "Increase the number of iterations (max_iter) or scale the data as shown in:\n",
      "    https://scikit-learn.org/stable/modules/preprocessing.html\n",
      "Please also refer to the documentation for alternative solver options:\n",
      "    https://scikit-learn.org/stable/modules/linear_model.html#logistic-regression\n",
      "  n_iter_i = _check_optimize_result(\n"
     ]
    },
    {
     "name": "stdout",
     "output_type": "stream",
     "text": [
      "null accuracy: 50.08%\n",
      "accuracy score: 78.36%\n",
      "model is 28.28% more accurate than null accuracy\n",
      "train and test time: 94.72s\n",
      "--------------------------------------------------------------------------------\n",
      "Validation result for 20000 features\n"
     ]
    },
    {
     "name": "stderr",
     "output_type": "stream",
     "text": [
      "c:\\Users\\Frank\\AppData\\Local\\Programs\\Python\\Python310\\lib\\site-packages\\sklearn\\linear_model\\_logistic.py:458: ConvergenceWarning: lbfgs failed to converge (status=1):\n",
      "STOP: TOTAL NO. of ITERATIONS REACHED LIMIT.\n",
      "\n",
      "Increase the number of iterations (max_iter) or scale the data as shown in:\n",
      "    https://scikit-learn.org/stable/modules/preprocessing.html\n",
      "Please also refer to the documentation for alternative solver options:\n",
      "    https://scikit-learn.org/stable/modules/linear_model.html#logistic-regression\n",
      "  n_iter_i = _check_optimize_result(\n"
     ]
    },
    {
     "name": "stdout",
     "output_type": "stream",
     "text": [
      "null accuracy: 50.08%\n",
      "accuracy score: 79.00%\n",
      "model is 28.92% more accurate than null accuracy\n",
      "train and test time: 101.20s\n",
      "--------------------------------------------------------------------------------\n",
      "Validation result for 30000 features\n"
     ]
    },
    {
     "name": "stderr",
     "output_type": "stream",
     "text": [
      "c:\\Users\\Frank\\AppData\\Local\\Programs\\Python\\Python310\\lib\\site-packages\\sklearn\\linear_model\\_logistic.py:458: ConvergenceWarning: lbfgs failed to converge (status=1):\n",
      "STOP: TOTAL NO. of ITERATIONS REACHED LIMIT.\n",
      "\n",
      "Increase the number of iterations (max_iter) or scale the data as shown in:\n",
      "    https://scikit-learn.org/stable/modules/preprocessing.html\n",
      "Please also refer to the documentation for alternative solver options:\n",
      "    https://scikit-learn.org/stable/modules/linear_model.html#logistic-regression\n",
      "  n_iter_i = _check_optimize_result(\n"
     ]
    },
    {
     "name": "stdout",
     "output_type": "stream",
     "text": [
      "null accuracy: 50.08%\n",
      "accuracy score: 79.11%\n",
      "model is 29.04% more accurate than null accuracy\n",
      "train and test time: 92.93s\n",
      "--------------------------------------------------------------------------------\n",
      "Validation result for 40000 features\n"
     ]
    },
    {
     "name": "stderr",
     "output_type": "stream",
     "text": [
      "c:\\Users\\Frank\\AppData\\Local\\Programs\\Python\\Python310\\lib\\site-packages\\sklearn\\linear_model\\_logistic.py:458: ConvergenceWarning: lbfgs failed to converge (status=1):\n",
      "STOP: TOTAL NO. of ITERATIONS REACHED LIMIT.\n",
      "\n",
      "Increase the number of iterations (max_iter) or scale the data as shown in:\n",
      "    https://scikit-learn.org/stable/modules/preprocessing.html\n",
      "Please also refer to the documentation for alternative solver options:\n",
      "    https://scikit-learn.org/stable/modules/linear_model.html#logistic-regression\n",
      "  n_iter_i = _check_optimize_result(\n"
     ]
    },
    {
     "name": "stdout",
     "output_type": "stream",
     "text": [
      "null accuracy: 50.08%\n",
      "accuracy score: 79.45%\n",
      "model is 29.38% more accurate than null accuracy\n",
      "train and test time: 92.96s\n",
      "--------------------------------------------------------------------------------\n",
      "Validation result for 50000 features\n"
     ]
    },
    {
     "name": "stderr",
     "output_type": "stream",
     "text": [
      "c:\\Users\\Frank\\AppData\\Local\\Programs\\Python\\Python310\\lib\\site-packages\\sklearn\\linear_model\\_logistic.py:458: ConvergenceWarning: lbfgs failed to converge (status=1):\n",
      "STOP: TOTAL NO. of ITERATIONS REACHED LIMIT.\n",
      "\n",
      "Increase the number of iterations (max_iter) or scale the data as shown in:\n",
      "    https://scikit-learn.org/stable/modules/preprocessing.html\n",
      "Please also refer to the documentation for alternative solver options:\n",
      "    https://scikit-learn.org/stable/modules/linear_model.html#logistic-regression\n",
      "  n_iter_i = _check_optimize_result(\n"
     ]
    },
    {
     "name": "stdout",
     "output_type": "stream",
     "text": [
      "null accuracy: 50.08%\n",
      "accuracy score: 79.48%\n",
      "model is 29.41% more accurate than null accuracy\n",
      "train and test time: 96.71s\n",
      "--------------------------------------------------------------------------------\n",
      "Validation result for 60000 features\n"
     ]
    },
    {
     "name": "stderr",
     "output_type": "stream",
     "text": [
      "c:\\Users\\Frank\\AppData\\Local\\Programs\\Python\\Python310\\lib\\site-packages\\sklearn\\linear_model\\_logistic.py:458: ConvergenceWarning: lbfgs failed to converge (status=1):\n",
      "STOP: TOTAL NO. of ITERATIONS REACHED LIMIT.\n",
      "\n",
      "Increase the number of iterations (max_iter) or scale the data as shown in:\n",
      "    https://scikit-learn.org/stable/modules/preprocessing.html\n",
      "Please also refer to the documentation for alternative solver options:\n",
      "    https://scikit-learn.org/stable/modules/linear_model.html#logistic-regression\n",
      "  n_iter_i = _check_optimize_result(\n"
     ]
    },
    {
     "name": "stdout",
     "output_type": "stream",
     "text": [
      "null accuracy: 50.08%\n",
      "accuracy score: 79.47%\n",
      "model is 29.40% more accurate than null accuracy\n",
      "train and test time: 92.20s\n",
      "--------------------------------------------------------------------------------\n",
      "Validation result for 70000 features\n"
     ]
    },
    {
     "name": "stderr",
     "output_type": "stream",
     "text": [
      "c:\\Users\\Frank\\AppData\\Local\\Programs\\Python\\Python310\\lib\\site-packages\\sklearn\\linear_model\\_logistic.py:458: ConvergenceWarning: lbfgs failed to converge (status=1):\n",
      "STOP: TOTAL NO. of ITERATIONS REACHED LIMIT.\n",
      "\n",
      "Increase the number of iterations (max_iter) or scale the data as shown in:\n",
      "    https://scikit-learn.org/stable/modules/preprocessing.html\n",
      "Please also refer to the documentation for alternative solver options:\n",
      "    https://scikit-learn.org/stable/modules/linear_model.html#logistic-regression\n",
      "  n_iter_i = _check_optimize_result(\n"
     ]
    },
    {
     "name": "stdout",
     "output_type": "stream",
     "text": [
      "null accuracy: 50.08%\n",
      "accuracy score: 79.55%\n",
      "model is 29.47% more accurate than null accuracy\n",
      "train and test time: 95.14s\n",
      "--------------------------------------------------------------------------------\n",
      "Validation result for 80000 features\n"
     ]
    },
    {
     "name": "stderr",
     "output_type": "stream",
     "text": [
      "c:\\Users\\Frank\\AppData\\Local\\Programs\\Python\\Python310\\lib\\site-packages\\sklearn\\linear_model\\_logistic.py:458: ConvergenceWarning: lbfgs failed to converge (status=1):\n",
      "STOP: TOTAL NO. of ITERATIONS REACHED LIMIT.\n",
      "\n",
      "Increase the number of iterations (max_iter) or scale the data as shown in:\n",
      "    https://scikit-learn.org/stable/modules/preprocessing.html\n",
      "Please also refer to the documentation for alternative solver options:\n",
      "    https://scikit-learn.org/stable/modules/linear_model.html#logistic-regression\n",
      "  n_iter_i = _check_optimize_result(\n"
     ]
    },
    {
     "name": "stdout",
     "output_type": "stream",
     "text": [
      "null accuracy: 50.08%\n",
      "accuracy score: 79.63%\n",
      "model is 29.56% more accurate than null accuracy\n",
      "train and test time: 97.39s\n",
      "--------------------------------------------------------------------------------\n",
      "Validation result for 90000 features\n"
     ]
    },
    {
     "name": "stderr",
     "output_type": "stream",
     "text": [
      "c:\\Users\\Frank\\AppData\\Local\\Programs\\Python\\Python310\\lib\\site-packages\\sklearn\\linear_model\\_logistic.py:458: ConvergenceWarning: lbfgs failed to converge (status=1):\n",
      "STOP: TOTAL NO. of ITERATIONS REACHED LIMIT.\n",
      "\n",
      "Increase the number of iterations (max_iter) or scale the data as shown in:\n",
      "    https://scikit-learn.org/stable/modules/preprocessing.html\n",
      "Please also refer to the documentation for alternative solver options:\n",
      "    https://scikit-learn.org/stable/modules/linear_model.html#logistic-regression\n",
      "  n_iter_i = _check_optimize_result(\n"
     ]
    },
    {
     "name": "stdout",
     "output_type": "stream",
     "text": [
      "null accuracy: 50.08%\n",
      "accuracy score: 79.54%\n",
      "model is 29.46% more accurate than null accuracy\n",
      "train and test time: 93.61s\n",
      "--------------------------------------------------------------------------------\n",
      "Validation result for 100000 features\n"
     ]
    },
    {
     "name": "stderr",
     "output_type": "stream",
     "text": [
      "c:\\Users\\Frank\\AppData\\Local\\Programs\\Python\\Python310\\lib\\site-packages\\sklearn\\linear_model\\_logistic.py:458: ConvergenceWarning: lbfgs failed to converge (status=1):\n",
      "STOP: TOTAL NO. of ITERATIONS REACHED LIMIT.\n",
      "\n",
      "Increase the number of iterations (max_iter) or scale the data as shown in:\n",
      "    https://scikit-learn.org/stable/modules/preprocessing.html\n",
      "Please also refer to the documentation for alternative solver options:\n",
      "    https://scikit-learn.org/stable/modules/linear_model.html#logistic-regression\n",
      "  n_iter_i = _check_optimize_result(\n"
     ]
    },
    {
     "name": "stdout",
     "output_type": "stream",
     "text": [
      "null accuracy: 50.08%\n",
      "accuracy score: 79.57%\n",
      "model is 29.49% more accurate than null accuracy\n",
      "train and test time: 96.12s\n",
      "--------------------------------------------------------------------------------\n"
     ]
    },
    {
     "data": {
      "text/plain": [
       "<matplotlib.legend.Legend at 0x2af341adc60>"
      ]
     },
     "execution_count": 63,
     "metadata": {},
     "output_type": "execute_result"
    },
    {
     "data": {
      "image/png": "[encoded data removed]",
      "text/plain": [
       "<Figure size 800x600 with 1 Axes>"
      ]
     },
     "metadata": {},
     "output_type": "display_data"
    }
   ],
   "source": [
    "# from sklearn.feature_extraction.text import CountVectorizer\n",
    "from sklearn.linear_model import LogisticRegression\n",
    "from sklearn.pipeline import Pipeline\n",
    "from sklearn.metrics import accuracy_score\n",
    "from sklearn.model_selection import train_test_split\n",
    "from sklearn.feature_extraction.text import TfidfVectorizer\n",
    "from time import time\n",
    "\n",
    "my_df = pd.read_csv('clean_tweets.csv', index_col=0)\n",
    "x = my_df.text\n",
    "y = my_df.target\n",
    "x_train, x_validation_and_test, y_train, y_validation_and_test = train_test_split(x, y, test_size=.02, random_state=42)\n",
    "x_validation, x_test, y_validation, y_test = train_test_split(x_validation_and_test, y_validation_and_test, test_size=.5, random_state=42)\n",
    "\n",
    "def accuracy_summary(pipeline, x_train, y_train, x_test, y_test):\n",
    "    null_accuracy = len(x_test[y_test == 0])/len(x_test) if len(x_test[y_test == 0])/len(x_test) > 0.5 else 1 - len(x_test[y_test == 0])/len(x_test)\n",
    "    # if len(x_test[y_test == 0]) / (len(x_test)*1.) > 0.5:\n",
    "    #     null_accuracy = len(x_test[y_test == 0]) / (len(x_test)*1.)\n",
    "    # else:\n",
    "    #     null_accuracy = 1. - (len(x_test[y_test == 0]) / (len(x_test)*1.))\n",
    "    t0 = time()\n",
    "    sentiment_fit = pipeline.fit(x_train, y_train)\n",
    "    y_pred = sentiment_fit.predict(x_test)\n",
    "    train_test_time = time() - t0\n",
    "    accuracy = accuracy_score(y_test, y_pred)\n",
    "    print(\"null accuracy: {0:.2f}%\".format(null_accuracy*100))\n",
    "    print(\"accuracy score: {0:.2f}%\".format(accuracy*100))\n",
    "    if accuracy > null_accuracy:\n",
    "        print(\"model is {0:.2f}% more accurate than null accuracy\".format((accuracy-null_accuracy)*100))\n",
    "    elif accuracy == null_accuracy:\n",
    "        print(\"model has the same accuracy with the null accuracy\")\n",
    "    else:\n",
    "        print(\"model is {0:.2f}% less accurate than null accuracy\".format((null_accuracy-accuracy)*100))\n",
    "    print(\"train and test time: {0:.2f}s\".format(train_test_time))\n",
    "    print(\"-\"*80)\n",
    "    return accuracy, train_test_time\n",
    "\n",
    "# cvec = CountVectorizer()\n",
    "tvec = TfidfVectorizer()\n",
    "lr = LogisticRegression()\n",
    "n_features = np.arange(10000,100001,10000)\n",
    "\n",
    "def nfeature_accuracy_checker(vectorizer=tvec, n_features=n_features, stop_words=None, ngram_range=(1, 1), classifier=lr):\n",
    "    result = []\n",
    "    print(classifier, \"\\n\")\n",
    "    for n in n_features:\n",
    "        vectorizer.set_params(stop_words=stop_words, max_features=n, ngram_range=ngram_range)\n",
    "        checker_pipeline = Pipeline([\n",
    "            ('vectorizer', vectorizer),\n",
    "            ('classifier', classifier)\n",
    "        ])\n",
    "        print(\"Validation result for {} features\".format(n))\n",
    "        nfeature_accuracy,tt_time = accuracy_summary(checker_pipeline, x_train, y_train, x_validation, y_validation)\n",
    "        result.append((n,nfeature_accuracy,tt_time))\n",
    "    return result\n",
    "\n",
    "# feature_result_ugt = nfeature_accuracy_checker()\n",
    "# feature_result_bgt = nfeature_accuracy_checker(ngram_range=(1, 2))\n",
    "feature_result_tgt = nfeature_accuracy_checker(ngram_range=(1, 3))\n",
    "\n",
    "nfeatures_plot_tgt = pd.DataFrame(feature_result_tgt,columns=['nfeatures','validation_accuracy','train_test_time'])\n",
    "# nfeatures_plot_bgt = pd.DataFrame(feature_result_bgt,columns=['nfeatures','validation_accuracy','train_test_time'])\n",
    "# nfeatures_plot_ugt = pd.DataFrame(feature_result_ugt,columns=['nfeatures','validation_accuracy','train_test_time'])\n",
    "\n",
    "plt.figure(figsize=(8,6))\n",
    "plt.plot(nfeatures_plot_tgt.nfeatures, nfeatures_plot_tgt.validation_accuracy,label='trigram tfidf vectorizer',color='royalblue')\n",
    "# plt.plot(nfeatures_plot_tg.nfeatures, nfeatures_plot_tg.validation_accuracy,label='trigram count vectorizer',linestyle=':', color='royalblue')\n",
    "# plt.plot(nfeatures_plot_bgt.nfeatures, nfeatures_plot_bgt.validation_accuracy,label='bigram tfidf vectorizer',color='orangered')\n",
    "# plt.plot(nfeatures_plot_bg.nfeatures, nfeatures_plot_bg.validation_accuracy,label='bigram count vectorizer',linestyle=':',color='orangered')\n",
    "# plt.plot(nfeatures_plot_ugt.nfeatures, nfeatures_plot_ugt.validation_accuracy, label='unigram tfidf vectorizer',color='gold')\n",
    "# plt.plot(nfeatures_plot_ug.nfeatures, nfeatures_plot_ug.validation_accuracy, label='unigram count vectorizer',linestyle=':',color='gold')\n",
    "plt.title(\"N-gram(1~3) test result : Accuracy\")\n",
    "plt.xlabel(\"Number of features\")\n",
    "plt.ylabel(\"Validation set accuracy\")\n",
    "plt.legend()"
   ]
  },
  {
   "cell_type": "code",
   "execution_count": 81,
   "metadata": {},
   "outputs": [
    {
     "name": "stdout",
     "output_type": "stream",
     "text": [
      "@nathaliejacoby1 apple, microsoft, tesla\n",
      "@elonmusk the tesla investors begging u to stfu: 💀\n",
      "RT @WholeMarsBlog: Tesla will be bigger than Apple, Elon’s impact has been more broad than Steve Jobs, and transitioning the energy infrast…\n",
      "setroi actualidad : Más de 16.000 millones en un año: los bajistas tocan el cielo con Tesla. setroi noticias: El mayor beneficiario podría ser Bill Gates, por quien Elon Musk nunca ha ocultado su desprecio Leer\n",
      "@WholeMarsBlog @elonmusk FSD requires AGI level perfection because lives are at stake ie it ain’t happening anytime soon.\n",
      "\n",
      "Tesla Bot is the real game changer. It will scale with real use cases within 3 years. The vision stack is already good enough.\n",
      "@jasonrmcintyre Damn your tesla take! Dogs r amazing\n",
      "I just entered @AutoTrader_UK’s monthly️ #ElectricCarGiveaway &amp; you can too! This month’s prize is a Tesla Model Y worth over £51k! It’s free to enter &amp; you have until 31st January. All information (including Ts&amp;Cs) can be found here: https://t.co/GIyT8FqcSI\n",
      "RT @teslaownersSV: Tesla has employed over 47,000 employees in California along with paying them $16.6B https://t.co/uhgN7iqi7u\n",
      "RT @teslaownersSV: While you continue to exclude @tesla. You really don’t care about promoting of buying American. If you did then Tesla wo…\n",
      "My Asian Uber driver pulls up in a Tesla playing SNATCHED … his souuuul 😭😂 idk if he tryna be funny or what\n"
     ]
    }
   ],
   "source": [
    "import tweepy\n",
    "consumer_key = 'BAEsDIvgMfqf9x5qMVknxB3de'\n",
    "consumer_secret = 'vQcOk34ul1oLyn6mVkhShrHf7IrX4OFRchQ6pP13iVRuot6P1d'\n",
    "access_token = '1611033532922531840-DNon2MS8KBhJe2lVKEroUOE3Hrk3Az'\n",
    "access_token_secret = 'ibO36GOT09sG7lCNh5882mdqPd5nLXE0RaudzHR3kpzpr'\n",
    "bearer_token = 'AAAAAAAAAAAAAAAAAAAAANEmlAEAAAAAtmGiP9j20R7VUpE1pLQqGqjHfAs%3DpZRR007AssGyalwzrXBXmXuvRKRnaolQUgRXP43NhbGMx7fmtm'\n",
    "\n",
    "client = tweepy.Client(bearer_token)\n",
    "# auth = tweepy.OAuthHandler(consumer_key, consumer_secret)\n",
    "# auth.set_access_token(access_token, access_token_secret)\n",
    "# api = tweepy.API(auth,wait_on_rate_limit=True)\n",
    "# api = tweepy.API(auth)\n",
    "\n",
    "search_word = 'tesla' \n",
    "date_since = '2023-01-01'\n",
    "\n",
    "# tweets = tweepy.search_recent_tweets(api.search_tweets, q = search_word, lang ='en', since = date_since).items(100)\n",
    "tweets = client.search_recent_tweets(query=search_word)\n",
    "# tweet_details = [[tweet.geo,tweet.text,tweet.user.screen_name,tweet.user.location] for tweet in tweets]\n",
    "# tweet_details = [tweet.text for tweet in tweets]\n",
    "for tweet in tweets.data:\n",
    "    print(tweet.text)"
   ]
  },
  {
   "attachments": {},
   "cell_type": "markdown",
   "metadata": {},
   "source": [
    "API KEY = BAEsDIvgMfqf9x5qMVknxB3de\n",
    "API KEY SECRET = vQcOk34ul1oLyn6mVkhShrHf7IrX4OFRchQ6pP13iVRuot6P1d\n",
    "vQcOk34ul1oLyn6mVkhShrHf7IrX4OFRchQ6pP13iVRuot6P1d\n",
    "BEARER TOKEN = AAAAAAAAAAAAAAAAAAAAANEmlAEAAAAAtmGiP9j20R7VUpE1pLQqGqjHfAs%3DpZRR007AssGyalwzrXBXmXuvRKRnaolQUgRXP43NhbGMx7fmtm\n",
    "AAAAAAAAAAAAAAAAAAAAANEmlAEAAAAAtmGiP9j20R7VUpE1pLQqGqjHfAs%3DpZRR007AssGyalwzrXBXmXuvRKRnaolQUgRXP43NhbGMx7fmtm\n",
    "ACCESS TOKEN = 1611033532922531840-DNon2MS8KBhJe2lVKEroUOE3Hrk3Az\n",
    "ACCESS TOKEN SECRET = ibO36GOT09sG7lCNh5882mdqPd5nLXE0RaudzHR3kpzpr"
   ]
  },
  {
   "cell_type": "code",
   "execution_count": 96,
   "metadata": {},
   "outputs": [
    {
     "name": "stderr",
     "output_type": "stream",
     "text": [
      "c:\\Users\\Frank\\AppData\\Local\\Programs\\Python\\Python310\\lib\\site-packages\\bs4\\__init__.py:435: MarkupResemblesLocatorWarning: The input looks more like a filename than markup. You may want to open this file and pass the filehandle into Beautiful Soup.\n",
      "  warnings.warn(\n",
      "c:\\Users\\Frank\\AppData\\Local\\Programs\\Python\\Python310\\lib\\site-packages\\sklearn\\linear_model\\_logistic.py:458: ConvergenceWarning: lbfgs failed to converge (status=1):\n",
      "STOP: TOTAL NO. of ITERATIONS REACHED LIMIT.\n",
      "\n",
      "Increase the number of iterations (max_iter) or scale the data as shown in:\n",
      "    https://scikit-learn.org/stable/modules/preprocessing.html\n",
      "Please also refer to the documentation for alternative solver options:\n",
      "    https://scikit-learn.org/stable/modules/linear_model.html#logistic-regression\n",
      "  n_iter_i = _check_optimize_result(\n"
     ]
    }
   ],
   "source": [
    "# def accuracy_summary(pipeline, x_train, y_train, x_test, y_test):\n",
    "#     null_accuracy = len(x_test[y_test == 0])/len(x_test) if len(x_test[y_test == 0])/len(x_test) > 0.5 else 1 - len(x_test[y_test == 0])/len(x_test)\n",
    "#     # if len(x_test[y_test == 0]) / (len(x_test)*1.) > 0.5:\n",
    "#     #     null_accuracy = len(x_test[y_test == 0]) / (len(x_test)*1.)\n",
    "#     # else:\n",
    "#     #     null_accuracy = 1. - (len(x_test[y_test == 0]) / (len(x_test)*1.))\n",
    "#     t0 = time()\n",
    "#     sentiment_fit = pipeline.fit(x_train, y_train)\n",
    "#     y_pred = sentiment_fit.predict(x_test)\n",
    "#     train_test_time = time() - t0\n",
    "#     accuracy = accuracy_score(y_test, y_pred)\n",
    "#     print(\"null accuracy: {0:.2f}%\".format(null_accuracy*100))\n",
    "#     print(\"accuracy score: {0:.2f}%\".format(accuracy*100))\n",
    "#     if accuracy > null_accuracy:\n",
    "#         print(\"model is {0:.2f}% more accurate than null accuracy\".format((accuracy-null_accuracy)*100))\n",
    "#     elif accuracy == null_accuracy:\n",
    "#         print(\"model has the same accuracy with the null accuracy\")\n",
    "#     else:\n",
    "#         print(\"model is {0:.2f}% less accurate than null accuracy\".format((null_accuracy-accuracy)*100))\n",
    "#     print(\"train and test time: {0:.2f}s\".format(train_test_time))\n",
    "#     print(\"-\"*80)\n",
    "#     return accuracy, train_test_time\n",
    "\n",
    "# def nfeature_accuracy_checker(vectorizer=tvec, n_features=n_features, stop_words=None, ngram_range=(1, 1), classifier=lr):\n",
    "#     result = []\n",
    "#     print(classifier, \"\\n\")\n",
    "#     for n in n_features:\n",
    "#         vectorizer.set_params(stop_words=stop_words, max_features=n, ngram_range=ngram_range)\n",
    "#         checker_pipeline = Pipeline([\n",
    "#             ('vectorizer', vectorizer),\n",
    "#             ('classifier', classifier)\n",
    "#         ])\n",
    "#         print(\"Validation result for {} features\".format(n))\n",
    "#         nfeature_accuracy,tt_time = accuracy_summary(checker_pipeline, x_train, y_train, x_validation, y_validation)\n",
    "#         result.append((n,nfeature_accuracy,tt_time))\n",
    "#     return result\n",
    "\n",
    "def sentiment_analyzer_maker(vectorizer, num_features, ngram_range, classifier, train_df):\n",
    "    vectorizer.set_params(max_features=num_features, ngram_range=ngram_range)\n",
    "    sentiment_analyzer = Pipeline([\n",
    "        ('vectorizer', vectorizer),\n",
    "        ('classifier', classifier)\n",
    "    ])\n",
    "    sentiment_analyzer = sentiment_analyzer.fit(train_df.text, train_df.target)\n",
    "    return sentiment_analyzer\n",
    "\n",
    "lr = LogisticRegression(max_iter = 10)\n",
    "searched_tweets = client.search_recent_tweets(query=search_word, max_results=100)\n",
    "tweets_to_analyze = []\n",
    "for tweet in searched_tweets.data:\n",
    "    tweets_to_analyze.append(text_cleaner(tweet.text))\n",
    "sentiment_analyzer = sentiment_analyzer_maker(tvec, 80000, (1,3), lr, my_df)"
   ]
  },
  {
   "cell_type": "code",
   "execution_count": 98,
   "metadata": {},
   "outputs": [
    {
     "name": "stdout",
     "output_type": "stream",
     "text": [
      "[4 4 4 4 4 0 4 4 0 4 0 4 4 4 0 0 4 4 0 4 0 4 0 4 0 0 4 4 4 4 4 4 4 4 0 0 4\n",
      " 0 4 4 0 4 0 4 0 4 4 4 4 4 0 0 0 4 0 4 4 4 4 4 4 4 0 4 4 0 4 4 4 4 4 4 4 4\n",
      " 4 4 0 0 4 0 4 4 4 4 4 0 0 0 0 0 4 4 4 4 0 0 4 4 4 4]\n",
      "2.72\n",
      "0.68\n"
     ]
    }
   ],
   "source": [
    "def sentiment_analyzer_applier(sentiment_analyzer, tweets_to_analyze):\n",
    "    predicted_sentiments = sentiment_analyzer.predict(tweets_to_analyze)\n",
    "    print(predicted_sentiments)\n",
    "    print(sum(predicted_sentiments)/len(predicted_sentiments))\n",
    "    print((sum(predicted_sentiments)/len(predicted_sentiments))/4)\n",
    "\n",
    "sentiment_analyzer_applier(sentiment_analyzer, tweets_to_analyze)"
   ]
  }
 ],
 "metadata": {
  "kernelspec": {
   "display_name": "Python 3",
   "language": "python",
   "name": "python3"
  },
  "language_info": {
   "codemirror_mode": {
    "name": "ipython",
    "version": 3
   },
   "file_extension": ".py",
   "mimetype": "text/x-python",
   "name": "python",
   "nbconvert_exporter": "python",
   "pygments_lexer": "ipython3",
   "version": "3.10.7 (tags/v3.10.7:6cc6b13, Sep  5 2022, 14:08:36) [MSC v.1933 64 bit (AMD64)]"
  },
  "orig_nbformat": 4,
  "vscode": {
   "interpreter": {
    "hash": "48ee2bf33b2352c788f912dcbd443677a6d486fb07c682736af629314ae144f2"
   }
  }
 },
 "nbformat": 4,
 "nbformat_minor": 2
}
