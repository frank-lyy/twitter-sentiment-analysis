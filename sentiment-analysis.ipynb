{
 "cells": [
  {
   "cell_type": "code",
   "execution_count": 2,
   "metadata": {},
   "outputs": [],
   "source": [
    "import pandas as pd\n",
    "import numpy as np\n",
    "import matplotlib.pyplot as plt\n",
    "cols = ['sentiment','id','date','query_string','user','text']\n",
    "df = pd.read_csv(\"./training.1600000.processed.noemoticon.csv\",header=None, names=cols)\n",
    "df.drop(['id', 'date', 'query_string', 'user'], axis=1, inplace=True)"
   ]
  },
  {
   "cell_type": "code",
   "execution_count": 3,
   "metadata": {},
   "outputs": [
    {
     "name": "stdout",
     "output_type": "stream",
     "text": [
      "Average tweet length pre-cleaning: 74.041768125 characters.\n"
     ]
    }
   ],
   "source": [
    "df['pre_clean_len'] = [len(t) for t in df.text]\n",
    "print(\"Average tweet length pre-cleaning:\", np.average(df['pre_clean_len']), \"characters.\")"
   ]
  },
  {
   "cell_type": "code",
   "execution_count": 4,
   "metadata": {},
   "outputs": [
    {
     "name": "stderr",
     "output_type": "stream",
     "text": [
      "c:\\Users\\Frank\\AppData\\Local\\Programs\\Python\\Python310\\lib\\site-packages\\bs4\\__init__.py:435: MarkupResemblesLocatorWarning: The input looks more like a filename than markup. You may want to open this file and pass the filehandle into Beautiful Soup.\n",
      "  warnings.warn(\n"
     ]
    },
    {
     "name": "stdout",
     "output_type": "stream",
     "text": [
      "10000 tweets have been cleaned\n",
      "20000 tweets have been cleaned\n",
      "30000 tweets have been cleaned\n",
      "40000 tweets have been cleaned\n",
      "50000 tweets have been cleaned\n",
      "60000 tweets have been cleaned\n",
      "70000 tweets have been cleaned\n",
      "80000 tweets have been cleaned\n",
      "90000 tweets have been cleaned\n",
      "100000 tweets have been cleaned\n",
      "110000 tweets have been cleaned\n",
      "120000 tweets have been cleaned\n",
      "130000 tweets have been cleaned\n",
      "140000 tweets have been cleaned\n",
      "150000 tweets have been cleaned\n",
      "160000 tweets have been cleaned\n",
      "170000 tweets have been cleaned\n",
      "180000 tweets have been cleaned\n",
      "190000 tweets have been cleaned\n",
      "200000 tweets have been cleaned\n",
      "210000 tweets have been cleaned\n",
      "220000 tweets have been cleaned\n",
      "230000 tweets have been cleaned\n",
      "240000 tweets have been cleaned\n",
      "250000 tweets have been cleaned\n",
      "260000 tweets have been cleaned\n",
      "270000 tweets have been cleaned\n",
      "280000 tweets have been cleaned\n",
      "290000 tweets have been cleaned\n",
      "300000 tweets have been cleaned\n",
      "310000 tweets have been cleaned\n",
      "320000 tweets have been cleaned\n",
      "330000 tweets have been cleaned\n",
      "340000 tweets have been cleaned\n",
      "350000 tweets have been cleaned\n",
      "360000 tweets have been cleaned\n",
      "370000 tweets have been cleaned\n",
      "380000 tweets have been cleaned\n",
      "390000 tweets have been cleaned\n",
      "400000 tweets have been cleaned\n",
      "410000 tweets have been cleaned\n",
      "420000 tweets have been cleaned\n",
      "430000 tweets have been cleaned\n",
      "440000 tweets have been cleaned\n",
      "450000 tweets have been cleaned\n",
      "460000 tweets have been cleaned\n",
      "470000 tweets have been cleaned\n",
      "480000 tweets have been cleaned\n",
      "490000 tweets have been cleaned\n",
      "500000 tweets have been cleaned\n",
      "510000 tweets have been cleaned\n",
      "520000 tweets have been cleaned\n",
      "530000 tweets have been cleaned\n",
      "540000 tweets have been cleaned\n",
      "550000 tweets have been cleaned\n",
      "560000 tweets have been cleaned\n",
      "570000 tweets have been cleaned\n",
      "580000 tweets have been cleaned\n",
      "590000 tweets have been cleaned\n",
      "600000 tweets have been cleaned\n",
      "610000 tweets have been cleaned\n",
      "620000 tweets have been cleaned\n",
      "630000 tweets have been cleaned\n",
      "640000 tweets have been cleaned\n",
      "650000 tweets have been cleaned\n",
      "660000 tweets have been cleaned\n",
      "670000 tweets have been cleaned\n",
      "680000 tweets have been cleaned\n",
      "690000 tweets have been cleaned\n",
      "700000 tweets have been cleaned\n",
      "710000 tweets have been cleaned\n",
      "720000 tweets have been cleaned\n",
      "730000 tweets have been cleaned\n",
      "740000 tweets have been cleaned\n",
      "750000 tweets have been cleaned\n",
      "760000 tweets have been cleaned\n",
      "770000 tweets have been cleaned\n",
      "780000 tweets have been cleaned\n",
      "790000 tweets have been cleaned\n",
      "800000 tweets have been cleaned\n",
      "810000 tweets have been cleaned\n",
      "820000 tweets have been cleaned\n",
      "830000 tweets have been cleaned\n",
      "840000 tweets have been cleaned\n",
      "850000 tweets have been cleaned\n",
      "860000 tweets have been cleaned\n",
      "870000 tweets have been cleaned\n",
      "880000 tweets have been cleaned\n",
      "890000 tweets have been cleaned\n",
      "900000 tweets have been cleaned\n",
      "910000 tweets have been cleaned\n",
      "920000 tweets have been cleaned\n",
      "930000 tweets have been cleaned\n",
      "940000 tweets have been cleaned\n",
      "950000 tweets have been cleaned\n",
      "960000 tweets have been cleaned\n",
      "970000 tweets have been cleaned\n",
      "980000 tweets have been cleaned\n",
      "990000 tweets have been cleaned\n",
      "1000000 tweets have been cleaned\n",
      "1010000 tweets have been cleaned\n",
      "1020000 tweets have been cleaned\n",
      "1030000 tweets have been cleaned\n",
      "1040000 tweets have been cleaned\n",
      "1050000 tweets have been cleaned\n",
      "1060000 tweets have been cleaned\n",
      "1070000 tweets have been cleaned\n",
      "1080000 tweets have been cleaned\n",
      "1090000 tweets have been cleaned\n",
      "1100000 tweets have been cleaned\n",
      "1110000 tweets have been cleaned\n",
      "1120000 tweets have been cleaned\n",
      "1130000 tweets have been cleaned\n",
      "1140000 tweets have been cleaned\n",
      "1150000 tweets have been cleaned\n",
      "1160000 tweets have been cleaned\n",
      "1170000 tweets have been cleaned\n",
      "1180000 tweets have been cleaned\n",
      "1190000 tweets have been cleaned\n",
      "1200000 tweets have been cleaned\n",
      "1210000 tweets have been cleaned\n",
      "1220000 tweets have been cleaned\n",
      "1230000 tweets have been cleaned\n",
      "1240000 tweets have been cleaned\n",
      "1250000 tweets have been cleaned\n",
      "1260000 tweets have been cleaned\n",
      "1270000 tweets have been cleaned\n",
      "1280000 tweets have been cleaned\n",
      "1290000 tweets have been cleaned\n",
      "1300000 tweets have been cleaned\n",
      "1310000 tweets have been cleaned\n",
      "1320000 tweets have been cleaned\n",
      "1330000 tweets have been cleaned\n",
      "1340000 tweets have been cleaned\n",
      "1350000 tweets have been cleaned\n",
      "1360000 tweets have been cleaned\n",
      "1370000 tweets have been cleaned\n",
      "1380000 tweets have been cleaned\n",
      "1390000 tweets have been cleaned\n",
      "1400000 tweets have been cleaned\n",
      "1410000 tweets have been cleaned\n",
      "1420000 tweets have been cleaned\n",
      "1430000 tweets have been cleaned\n",
      "1440000 tweets have been cleaned\n",
      "1450000 tweets have been cleaned\n",
      "1460000 tweets have been cleaned\n",
      "1470000 tweets have been cleaned\n",
      "1480000 tweets have been cleaned\n",
      "1490000 tweets have been cleaned\n",
      "1500000 tweets have been cleaned\n",
      "1510000 tweets have been cleaned\n",
      "1520000 tweets have been cleaned\n",
      "1530000 tweets have been cleaned\n",
      "1540000 tweets have been cleaned\n",
      "1550000 tweets have been cleaned\n",
      "1560000 tweets have been cleaned\n",
      "1570000 tweets have been cleaned\n",
      "1580000 tweets have been cleaned\n",
      "1590000 tweets have been cleaned\n",
      "1600000 tweets have been cleaned\n"
     ]
    }
   ],
   "source": [
    "from bs4 import BeautifulSoup\n",
    "from nltk.corpus import stopwords\n",
    "import re\n",
    "\n",
    "STOPWORDS = stopwords.words('english')\n",
    "\n",
    "def text_cleaner(text, remove_stopwords=True):\n",
    "    temp = BeautifulSoup(text, 'lxml').get_text() # removes html encoding\n",
    "    temp.replace(\"'\", \"\") # avoids removing contractions\n",
    "    temp = temp.lower() # lowercase\n",
    "    temp = re.sub(r'@[A-Za-z0-9_]+', '', temp) # removes mentions\n",
    "    temp = re.sub(r'https?://\\S+', '', temp) # removes urls (http/https)\n",
    "    temp = re.sub(r'www.\\S+', '', temp) # removes urls (www.)\n",
    "    temp = re.sub(r'[&,.]', ' ', temp) # removes all non letters\n",
    "    temp = re.sub(r'[^a-z\\s]+', '', temp)\n",
    "    # tokenizes and removes stopwords\n",
    "    temp = temp.split()\n",
    "    if remove_stopwords: temp = [w for w in temp if w not in STOPWORDS]\n",
    "    cleaned = \" \".join(word for word in temp)\n",
    "    cleaned = cleaned.strip()\n",
    "    return cleaned\n",
    "\n",
    "clean_tweets = []\n",
    "clean_tweets_no_stopwords = []\n",
    "\n",
    "for i in range(len(df)):\n",
    "    if ((i+1)%10000 == 0): print(\"%d tweets have been cleaned\" % (i+1))\n",
    "    \n",
    "    clean_tweet = text_cleaner(df.text[i], remove_stopwords=False)\n",
    "    clean_tweet_no_stopwords = text_cleaner(df.text[i])\n",
    "    \n",
    "    clean_tweets.append(clean_tweet)\n",
    "    clean_tweets_no_stopwords.append(clean_tweet_no_stopwords)"
   ]
  },
  {
   "cell_type": "code",
   "execution_count": 21,
   "metadata": {},
   "outputs": [
    {
     "name": "stdout",
     "output_type": "stream",
     "text": [
      "<class 'pandas.core.frame.DataFrame'>\n",
      "RangeIndex: 1596243 entries, 0 to 1596242\n",
      "Data columns (total 2 columns):\n",
      " #   Column      Non-Null Count    Dtype \n",
      "---  ------      --------------    ----- \n",
      " 0   clean_text  1596243 non-null  object\n",
      " 1   target      1596243 non-null  int64 \n",
      "dtypes: int64(1), object(1)\n",
      "memory usage: 24.4+ MB\n",
      "<class 'pandas.core.frame.DataFrame'>\n",
      "RangeIndex: 1592108 entries, 0 to 1592107\n",
      "Data columns (total 2 columns):\n",
      " #   Column      Non-Null Count    Dtype \n",
      "---  ------      --------------    ----- \n",
      " 0   clean_text  1592108 non-null  object\n",
      " 1   target      1592108 non-null  int64 \n",
      "dtypes: int64(1), object(1)\n",
      "memory usage: 24.3+ MB\n"
     ]
    }
   ],
   "source": [
    "# creating new DataFrames and dropping null entries (which have occurred due to cleaning) to get cleaned training set\n",
    "clean_df = pd.DataFrame(clean_tweets, columns=['clean_text'])\n",
    "clean_no_stopwords_df = pd.DataFrame(clean_tweets_no_stopwords, columns=['clean_text'])\n",
    "\n",
    "clean_df['target'] = df.sentiment\n",
    "clean_no_stopwords_df['target'] = df.sentiment\n",
    "\n",
    "clean_df = clean_df[clean_df['clean_text'] != '']\n",
    "clean_no_stopwords_df = clean_no_stopwords_df[clean_no_stopwords_df['clean_text'] != '']\n",
    "\n",
    "clean_df.reset_index(drop=True, inplace=True)\n",
    "clean_no_stopwords_df.reset_index(drop=True, inplace=True)\n",
    "\n",
    "clean_df.info()\n",
    "clean_no_stopwords_df.info()"
   ]
  },
  {
   "cell_type": "code",
   "execution_count": 22,
   "metadata": {},
   "outputs": [],
   "source": [
    "clean_df.to_csv('clean_tweets_with_stopwords.csv', encoding='utf-8')\n",
    "clean_no_stopwords_df.to_csv('clean_tweets.csv', encoding='utf-8')"
   ]
  },
  {
   "cell_type": "code",
   "execution_count": 5,
   "metadata": {},
   "outputs": [
    {
     "name": "stdout",
     "output_type": "stream",
     "text": [
      "Validation result for 10000 features\n"
     ]
    },
    {
     "name": "stderr",
     "output_type": "stream",
     "text": [
      "c:\\Users\\Frank\\AppData\\Local\\Programs\\Python\\Python310\\lib\\site-packages\\sklearn\\linear_model\\_logistic.py:458: ConvergenceWarning: lbfgs failed to converge (status=1):\n",
      "STOP: TOTAL NO. of ITERATIONS REACHED LIMIT.\n",
      "\n",
      "Increase the number of iterations (max_iter) or scale the data as shown in:\n",
      "    https://scikit-learn.org/stable/modules/preprocessing.html\n",
      "Please also refer to the documentation for alternative solver options:\n",
      "    https://scikit-learn.org/stable/modules/linear_model.html#logistic-regression\n",
      "  n_iter_i = _check_optimize_result(\n"
     ]
    },
    {
     "name": "stdout",
     "output_type": "stream",
     "text": [
      "null accuracy: 50.59%\n",
      "accuracy score: 79.17%\n",
      "model is 28.58 % more accurate than null accuracy\n",
      "train and test time: 74.97s\n",
      "--------------------------------------------------------------------------------\n",
      "Validation result for 20000 features\n"
     ]
    },
    {
     "name": "stderr",
     "output_type": "stream",
     "text": [
      "c:\\Users\\Frank\\AppData\\Local\\Programs\\Python\\Python310\\lib\\site-packages\\sklearn\\linear_model\\_logistic.py:458: ConvergenceWarning: lbfgs failed to converge (status=1):\n",
      "STOP: TOTAL NO. of ITERATIONS REACHED LIMIT.\n",
      "\n",
      "Increase the number of iterations (max_iter) or scale the data as shown in:\n",
      "    https://scikit-learn.org/stable/modules/preprocessing.html\n",
      "Please also refer to the documentation for alternative solver options:\n",
      "    https://scikit-learn.org/stable/modules/linear_model.html#logistic-regression\n",
      "  n_iter_i = _check_optimize_result(\n"
     ]
    },
    {
     "name": "stdout",
     "output_type": "stream",
     "text": [
      "null accuracy: 50.59%\n",
      "accuracy score: 79.56%\n",
      "model is 28.97 % more accurate than null accuracy\n",
      "train and test time: 92.31s\n",
      "--------------------------------------------------------------------------------\n",
      "Validation result for 30000 features\n"
     ]
    },
    {
     "name": "stderr",
     "output_type": "stream",
     "text": [
      "c:\\Users\\Frank\\AppData\\Local\\Programs\\Python\\Python310\\lib\\site-packages\\sklearn\\linear_model\\_logistic.py:458: ConvergenceWarning: lbfgs failed to converge (status=1):\n",
      "STOP: TOTAL NO. of ITERATIONS REACHED LIMIT.\n",
      "\n",
      "Increase the number of iterations (max_iter) or scale the data as shown in:\n",
      "    https://scikit-learn.org/stable/modules/preprocessing.html\n",
      "Please also refer to the documentation for alternative solver options:\n",
      "    https://scikit-learn.org/stable/modules/linear_model.html#logistic-regression\n",
      "  n_iter_i = _check_optimize_result(\n"
     ]
    },
    {
     "name": "stdout",
     "output_type": "stream",
     "text": [
      "null accuracy: 50.59%\n",
      "accuracy score: 79.78%\n",
      "model is 29.19 % more accurate than null accuracy\n",
      "train and test time: 83.53s\n",
      "--------------------------------------------------------------------------------\n",
      "Validation result for 40000 features\n"
     ]
    },
    {
     "name": "stderr",
     "output_type": "stream",
     "text": [
      "c:\\Users\\Frank\\AppData\\Local\\Programs\\Python\\Python310\\lib\\site-packages\\sklearn\\linear_model\\_logistic.py:458: ConvergenceWarning: lbfgs failed to converge (status=1):\n",
      "STOP: TOTAL NO. of ITERATIONS REACHED LIMIT.\n",
      "\n",
      "Increase the number of iterations (max_iter) or scale the data as shown in:\n",
      "    https://scikit-learn.org/stable/modules/preprocessing.html\n",
      "Please also refer to the documentation for alternative solver options:\n",
      "    https://scikit-learn.org/stable/modules/linear_model.html#logistic-regression\n",
      "  n_iter_i = _check_optimize_result(\n"
     ]
    },
    {
     "name": "stdout",
     "output_type": "stream",
     "text": [
      "null accuracy: 50.59%\n",
      "accuracy score: 79.91%\n",
      "model is 29.31 % more accurate than null accuracy\n",
      "train and test time: 81.94s\n",
      "--------------------------------------------------------------------------------\n",
      "Validation result for 50000 features\n"
     ]
    },
    {
     "name": "stderr",
     "output_type": "stream",
     "text": [
      "c:\\Users\\Frank\\AppData\\Local\\Programs\\Python\\Python310\\lib\\site-packages\\sklearn\\linear_model\\_logistic.py:458: ConvergenceWarning: lbfgs failed to converge (status=1):\n",
      "STOP: TOTAL NO. of ITERATIONS REACHED LIMIT.\n",
      "\n",
      "Increase the number of iterations (max_iter) or scale the data as shown in:\n",
      "    https://scikit-learn.org/stable/modules/preprocessing.html\n",
      "Please also refer to the documentation for alternative solver options:\n",
      "    https://scikit-learn.org/stable/modules/linear_model.html#logistic-regression\n",
      "  n_iter_i = _check_optimize_result(\n"
     ]
    },
    {
     "name": "stdout",
     "output_type": "stream",
     "text": [
      "null accuracy: 50.59%\n",
      "accuracy score: 80.13%\n",
      "model is 29.53 % more accurate than null accuracy\n",
      "train and test time: 83.61s\n",
      "--------------------------------------------------------------------------------\n",
      "Validation result for 60000 features\n"
     ]
    },
    {
     "name": "stderr",
     "output_type": "stream",
     "text": [
      "c:\\Users\\Frank\\AppData\\Local\\Programs\\Python\\Python310\\lib\\site-packages\\sklearn\\linear_model\\_logistic.py:458: ConvergenceWarning: lbfgs failed to converge (status=1):\n",
      "STOP: TOTAL NO. of ITERATIONS REACHED LIMIT.\n",
      "\n",
      "Increase the number of iterations (max_iter) or scale the data as shown in:\n",
      "    https://scikit-learn.org/stable/modules/preprocessing.html\n",
      "Please also refer to the documentation for alternative solver options:\n",
      "    https://scikit-learn.org/stable/modules/linear_model.html#logistic-regression\n",
      "  n_iter_i = _check_optimize_result(\n"
     ]
    },
    {
     "name": "stdout",
     "output_type": "stream",
     "text": [
      "null accuracy: 50.59%\n",
      "accuracy score: 80.06%\n",
      "model is 29.46 % more accurate than null accuracy\n",
      "train and test time: 81.35s\n",
      "--------------------------------------------------------------------------------\n",
      "Validation result for 70000 features\n"
     ]
    },
    {
     "name": "stderr",
     "output_type": "stream",
     "text": [
      "c:\\Users\\Frank\\AppData\\Local\\Programs\\Python\\Python310\\lib\\site-packages\\sklearn\\linear_model\\_logistic.py:458: ConvergenceWarning: lbfgs failed to converge (status=1):\n",
      "STOP: TOTAL NO. of ITERATIONS REACHED LIMIT.\n",
      "\n",
      "Increase the number of iterations (max_iter) or scale the data as shown in:\n",
      "    https://scikit-learn.org/stable/modules/preprocessing.html\n",
      "Please also refer to the documentation for alternative solver options:\n",
      "    https://scikit-learn.org/stable/modules/linear_model.html#logistic-regression\n",
      "  n_iter_i = _check_optimize_result(\n"
     ]
    },
    {
     "name": "stdout",
     "output_type": "stream",
     "text": [
      "null accuracy: 50.59%\n",
      "accuracy score: 80.28%\n",
      "model is 29.69 % more accurate than null accuracy\n",
      "train and test time: 77.25s\n",
      "--------------------------------------------------------------------------------\n",
      "Validation result for 80000 features\n"
     ]
    },
    {
     "name": "stderr",
     "output_type": "stream",
     "text": [
      "c:\\Users\\Frank\\AppData\\Local\\Programs\\Python\\Python310\\lib\\site-packages\\sklearn\\linear_model\\_logistic.py:458: ConvergenceWarning: lbfgs failed to converge (status=1):\n",
      "STOP: TOTAL NO. of ITERATIONS REACHED LIMIT.\n",
      "\n",
      "Increase the number of iterations (max_iter) or scale the data as shown in:\n",
      "    https://scikit-learn.org/stable/modules/preprocessing.html\n",
      "Please also refer to the documentation for alternative solver options:\n",
      "    https://scikit-learn.org/stable/modules/linear_model.html#logistic-regression\n",
      "  n_iter_i = _check_optimize_result(\n"
     ]
    },
    {
     "name": "stdout",
     "output_type": "stream",
     "text": [
      "null accuracy: 50.59%\n",
      "accuracy score: 80.05%\n",
      "model is 29.46 % more accurate than null accuracy\n",
      "train and test time: 76.97s\n",
      "--------------------------------------------------------------------------------\n",
      "Validation result for 90000 features\n"
     ]
    },
    {
     "name": "stderr",
     "output_type": "stream",
     "text": [
      "c:\\Users\\Frank\\AppData\\Local\\Programs\\Python\\Python310\\lib\\site-packages\\sklearn\\linear_model\\_logistic.py:458: ConvergenceWarning: lbfgs failed to converge (status=1):\n",
      "STOP: TOTAL NO. of ITERATIONS REACHED LIMIT.\n",
      "\n",
      "Increase the number of iterations (max_iter) or scale the data as shown in:\n",
      "    https://scikit-learn.org/stable/modules/preprocessing.html\n",
      "Please also refer to the documentation for alternative solver options:\n",
      "    https://scikit-learn.org/stable/modules/linear_model.html#logistic-regression\n",
      "  n_iter_i = _check_optimize_result(\n"
     ]
    },
    {
     "name": "stdout",
     "output_type": "stream",
     "text": [
      "null accuracy: 50.59%\n",
      "accuracy score: 80.21%\n",
      "model is 29.61 % more accurate than null accuracy\n",
      "train and test time: 78.89s\n",
      "--------------------------------------------------------------------------------\n",
      "Validation result for 100000 features\n"
     ]
    },
    {
     "name": "stderr",
     "output_type": "stream",
     "text": [
      "c:\\Users\\Frank\\AppData\\Local\\Programs\\Python\\Python310\\lib\\site-packages\\sklearn\\linear_model\\_logistic.py:458: ConvergenceWarning: lbfgs failed to converge (status=1):\n",
      "STOP: TOTAL NO. of ITERATIONS REACHED LIMIT.\n",
      "\n",
      "Increase the number of iterations (max_iter) or scale the data as shown in:\n",
      "    https://scikit-learn.org/stable/modules/preprocessing.html\n",
      "Please also refer to the documentation for alternative solver options:\n",
      "    https://scikit-learn.org/stable/modules/linear_model.html#logistic-regression\n",
      "  n_iter_i = _check_optimize_result(\n"
     ]
    },
    {
     "name": "stdout",
     "output_type": "stream",
     "text": [
      "null accuracy: 50.59%\n",
      "accuracy score: 80.25%\n",
      "model is 29.65 % more accurate than null accuracy\n",
      "train and test time: 80.28s\n",
      "--------------------------------------------------------------------------------\n"
     ]
    },
    {
     "data": {
      "text/plain": [
       "<matplotlib.legend.Legend at 0x27c70c4dab0>"
      ]
     },
     "execution_count": 5,
     "metadata": {},
     "output_type": "execute_result"
    },
    {
     "data": {
      "image/png": "[encoded data removed]",
      "text/plain": [
       "<Figure size 800x600 with 1 Axes>"
      ]
     },
     "metadata": {},
     "output_type": "display_data"
    }
   ],
   "source": [
    "# from sklearn.feature_extraction.text import CountVectorizer\n",
    "from sklearn.linear_model import LogisticRegression\n",
    "from sklearn.pipeline import Pipeline\n",
    "from sklearn.metrics import accuracy_score\n",
    "from sklearn.model_selection import train_test_split\n",
    "from sklearn.feature_extraction.text import TfidfVectorizer\n",
    "from time import time\n",
    "\n",
    "my_df = pd.read_csv('clean_tweets.csv', index_col=0)\n",
    "x = my_df.clean_text\n",
    "y = my_df.target\n",
    "x_train, x_validation_and_test, y_train, y_validation_and_test = train_test_split(x, y, test_size=.02, random_state=42)\n",
    "x_validation, x_test, y_validation, y_test = train_test_split(x_validation_and_test, y_validation_and_test, test_size=.5, random_state=42)\n",
    "\n",
    "def accuracy_summary(pipeline, x_train, y_train, x_test, y_test):\n",
    "    null_accuracy = len(x_test[y_test == 0])/len(x_test) if len(x_test[y_test == 0])/len(x_test) > 0.5 else 1 - len(x_test[y_test == 0])/len(x_test)\n",
    "    \n",
    "    t0 = time()\n",
    "    sentiment_fit = pipeline.fit(x_train, y_train)\n",
    "    y_pred = sentiment_fit.predict(x_test)\n",
    "    train_test_time = time() - t0\n",
    "    \n",
    "    accuracy = accuracy_score(y_test, y_pred)\n",
    "    print(\"null accuracy: {0:.2f}%\".format(null_accuracy*100))\n",
    "    print(\"accuracy score: {0:.2f}%\".format(accuracy*100))\n",
    "    \n",
    "    if accuracy > null_accuracy:\n",
    "        print(\"model is {0:.2f} % more accurate than null accuracy\".format((accuracy-null_accuracy)*100))\n",
    "    elif accuracy == null_accuracy:\n",
    "        print(\"model has the same accuracy with the null accuracy\")\n",
    "    else:\n",
    "        print(\"model is {0:.2f}% less accurate than null accuracy\".format((null_accuracy-accuracy)*100))\n",
    "    print(\"train and test time: {0:.2f}s\".format(train_test_time))\n",
    "    print(\"-\"*80)\n",
    "    \n",
    "    return accuracy, train_test_time\n",
    "\n",
    "# cvec = CountVectorizer()\n",
    "tvec = TfidfVectorizer()\n",
    "lr = LogisticRegression()\n",
    "n_features = np.arange(10000,100001,10000)\n",
    "\n",
    "def nfeature_accuracy_checker(vectorizer=tvec, n_features=n_features, stop_words=None, ngram_range=(1, 1), classifier=lr):\n",
    "    result = []\n",
    "\n",
    "    for n in n_features:\n",
    "        vectorizer.set_params(stop_words=stop_words, max_features=n, ngram_range=ngram_range)\n",
    "        checker_pipeline = Pipeline([\n",
    "            ('vectorizer', vectorizer),\n",
    "            ('classifier', classifier)\n",
    "        ])\n",
    "        print(\"Validation result for {} features\".format(n))\n",
    "        \n",
    "        nfeature_accuracy,tt_time = accuracy_summary(checker_pipeline, x_train, y_train, x_validation, y_validation)\n",
    "        result.append((n,nfeature_accuracy,tt_time))\n",
    "    \n",
    "    return result\n",
    "\n",
    "feature_result_tgt = nfeature_accuracy_checker(ngram_range=(1, 3))\n",
    "\n",
    "nfeatures_plot_tgt = pd.DataFrame(feature_result_tgt,columns=['nfeatures','validation_accuracy','train_test_time'])\n",
    "\n",
    "plt.figure(figsize=(8,6))\n",
    "plt.plot(nfeatures_plot_tgt.nfeatures, nfeatures_plot_tgt.validation_accuracy,label='trigram tfidf vectorizer',color='royalblue')\n",
    "plt.title(\"3-gram test result : Accuracy\")\n",
    "plt.xlabel(\"Number of features\")\n",
    "plt.ylabel(\"Validation set accuracy\")\n",
    "plt.legend()"
   ]
  },
  {
   "cell_type": "code",
   "execution_count": 24,
   "metadata": {},
   "outputs": [
    {
     "name": "stdout",
     "output_type": "stream",
     "text": [
      "Validation result for 70000 features\n",
      "null accuracy: 50.59%\n",
      "accuracy score: 64.35%\n",
      "model is 13.76 % more accurate than null accuracy\n",
      "train and test time: 159.85s\n",
      "--------------------------------------------------------------------------------\n"
     ]
    }
   ],
   "source": [
    "# Hyperparameter tuning: training a model with 70000 features, as this was the best performing classifier last time\n",
    "model_df = pd.read_csv('clean_tweets.csv', index_col=0)\n",
    "x_model = model_df.clean_text\n",
    "y_model = model_df.target\n",
    "x_train_model, x_validation_and_test_model, y_train_model, y_validation_and_test_model = train_test_split(x_model, y_model, test_size=.02, random_state=42)\n",
    "x_validation_model, x_test_model, y_validation_model, y_test_model = train_test_split(x_validation_and_test_model, y_validation_and_test_model, test_size=.5, random_state=42)\n",
    "\n",
    "def accuracy_summary(pipeline, x_train, y_train, x_test, y_test):\n",
    "    null_accuracy = len(x_test[y_test == 0])/len(x_test) if len(x_test[y_test == 0])/len(x_test) > 0.5 else 1 - len(x_test[y_test == 0])/len(x_test)\n",
    "    \n",
    "    t0 = time()\n",
    "    sentiment_fit = pipeline.fit(x_train, y_train)\n",
    "    y_pred = sentiment_fit.predict(x_test)\n",
    "    train_test_time = time() - t0\n",
    "    \n",
    "    accuracy = accuracy_score(y_test, y_pred)\n",
    "    print(\"null accuracy: {0:.2f}%\".format(null_accuracy*100))\n",
    "    print(\"accuracy score: {0:.2f}%\".format(accuracy*100))\n",
    "    \n",
    "    if accuracy > null_accuracy:\n",
    "        print(\"model is {0:.2f} % more accurate than null accuracy\".format((accuracy-null_accuracy)*100))\n",
    "    elif accuracy == null_accuracy:\n",
    "        print(\"model has the same accuracy with the null accuracy\")\n",
    "    else:\n",
    "        print(\"model is {0:.2f}% less accurate than null accuracy\".format((null_accuracy-accuracy)*100))\n",
    "    print(\"train and test time: {0:.2f}s\".format(train_test_time))\n",
    "    print(\"-\"*80)\n",
    "    \n",
    "    return accuracy, train_test_time\n",
    "\n",
    "tvec_model = TfidfVectorizer()\n",
    "lr_model = LogisticRegression(max_iter=10000)\n",
    "\n",
    "tvec.set_params(stop_words=None, max_features=70000, ngram_range=(1,3))\n",
    "checker_pipeline = Pipeline([\n",
    "    ('vectorizer', tvec),\n",
    "    ('classifier', lr)\n",
    "])\n",
    "\n",
    "print(\"Validation result for {} features\".format(70000))\n",
    "nfeature_accuracy,tt_time = accuracy_summary(checker_pipeline, x_train_model, y_train_model, x_validation_model, y_validation_model)"
   ]
  },
  {
   "cell_type": "code",
   "execution_count": 26,
   "metadata": {},
   "outputs": [
    {
     "name": "stdout",
     "output_type": "stream",
     "text": [
      "Validation result for 70000 features\n",
      "null accuracy: 50.59%\n",
      "accuracy score: 77.36%\n",
      "model is 26.76 % more accurate than null accuracy\n",
      "train and test time: 83.61s\n",
      "--------------------------------------------------------------------------------\n"
     ]
    }
   ],
   "source": [
    "from sklearn.linear_model import SGDClassifier\n",
    "\n",
    "model_df = pd.read_csv('clean_tweets.csv', index_col=0)\n",
    "x_model = model_df.clean_text\n",
    "y_model = model_df.target\n",
    "x_train_model, x_validation_and_test_model, y_train_model, y_validation_and_test_model = train_test_split(x_model, y_model, test_size=.02, random_state=42)\n",
    "x_validation_model, x_test_model, y_validation_model, y_test_model = train_test_split(x_validation_and_test_model, y_validation_and_test_model, test_size=.5, random_state=42)\n",
    "\n",
    "clf = SGDClassifier()\n",
    "tvec_model = TfidfVectorizer()\n",
    "tvec.set_params(stop_words=None, max_features=100000, ngram_range=(1,3))\n",
    "\n",
    "checker_pipeline = Pipeline([\n",
    "    ('vectorizer', tvec),\n",
    "    ('classifier', clf)\n",
    "])\n",
    "\n",
    "print(\"Validation result for {} features\".format(70000))\n",
    "nfeature_accuracy,tt_time = accuracy_summary(checker_pipeline, x_train_model, y_train_model, x_validation_model, y_validation_model)"
   ]
  },
  {
   "cell_type": "code",
   "execution_count": 1,
   "metadata": {},
   "outputs": [
    {
     "name": "stdout",
     "output_type": "stream",
     "text": [
      "RT @elonmusk: Wait for it …\n",
      "@borentar @11thJeff @elonmusk Sick lies require strong language, Law of Nature. Why would you complain about \"strong language\" but not complaining lies meant to damage Tesla &amp; Elon?\n",
      "RT @gurgavin: $TSLA TESLA Q1 DELIVERY NUMBERS WILL BE OUT IN LESS THAN 24 HOURS \n",
      "\n",
      "ANALYST ESTIMATES \n",
      "\n",
      "TOTAL DELIVERIES -&gt;  421,164\n",
      "\n",
      "MODEL S…\n",
      "@Tesla https://t.co/uAdA36ltjl\n",
      "RT @elonmusk: Wait for it …\n",
      "@Tesla April Fools!\n",
      "@elonmusk Yeah, it can stop before colliding with an obstacle, how does it fair when the obstacle doesn't stop? Say an oncoming Tesla that crosses into the opposite lane due to avoiding a deer in the road?\n",
      "RT @StockMKTNewz: Best performing S&amp;P 500 stocks from Q1\n",
      "\n",
      "Nvidia $NVDA +90.1%\n",
      "Facebook $META +76.1%\n",
      "Tesla $TSLA +68.4%\n",
      "Warner Bros. Discove…\n",
      "RT @elonmusk: Wait for it …\n",
      "😂 https://t.co/c7bIQmPCGY\n"
     ]
    }
   ],
   "source": [
    "import tweepy\n",
    "import os\n",
    "from dotenv import load_dotenv\n",
    "\n",
    "load_dotenv()\n",
    "\n",
    "consumer_key = os.getenv('API_KEY')\n",
    "consumer_secret = os.getenv('API_KEY_SECRET')\n",
    "access_token = os.getenv('ACCESS_TOKEN')\n",
    "access_token_secret = os.getenv('ACCESS_TOKEN_SECRET')\n",
    "bearer_token = os.getenv('BEARER_TOKEN')\n",
    "\n",
    "client = tweepy.Client(bearer_token)\n",
    "# auth = tweepy.OAuthHandler(consumer_key, consumer_secret)\n",
    "# auth.set_access_token(access_token, access_token_secret)\n",
    "# api = tweepy.API(auth,wait_on_rate_limit=True)\n",
    "# api = tweepy.API(auth)\n",
    "\n",
    "search_word = 'tesla' \n",
    "date_since = '2023-01-01'\n",
    "\n",
    "# tweets = tweepy.search_recent_tweets(api.search_tweets, q = search_word, lang ='en', since = date_since).items(100)\n",
    "tweets = client.search_recent_tweets(query=search_word)\n",
    "# tweet_details = [[tweet.geo,tweet.text,tweet.user.screen_name,tweet.user.location] for tweet in tweets]\n",
    "# tweet_details = [tweet.text for tweet in tweets]\n",
    "for tweet in tweets.data:\n",
    "    print(tweet.text)\n",
    "\n",
    "# corona_tweets = tweepy.Cursor(api.search,q = \"Covid19 OR corona OR Coronavirus -filter:retweets\",lang = \"en\", show_user = True,tweet_mode=\"extended\").items(5000)\n",
    "# corona_tweets_list = [[tweet.created_at, tweet.place, tweet.user.name, tweet.full_text] for tweet in corona_tweets]\n",
    "# print(len(corona_tweets_list))"
   ]
  },
  {
   "cell_type": "code",
   "execution_count": 5,
   "metadata": {},
   "outputs": [
    {
     "ename": "NameError",
     "evalue": "name 'LogisticRegression' is not defined",
     "output_type": "error",
     "traceback": [
      "\u001b[1;31m---------------------------------------------------------------------------\u001b[0m",
      "\u001b[1;31mNameError\u001b[0m                                 Traceback (most recent call last)",
      "Cell \u001b[1;32mIn[5], line 47\u001b[0m\n\u001b[0;32m     44\u001b[0m     sentiment_analyzer \u001b[39m=\u001b[39m sentiment_analyzer\u001b[39m.\u001b[39mfit(train_df\u001b[39m.\u001b[39mtext, train_df\u001b[39m.\u001b[39mtarget)\n\u001b[0;32m     45\u001b[0m     \u001b[39mreturn\u001b[39;00m sentiment_analyzer\n\u001b[1;32m---> 47\u001b[0m lr \u001b[39m=\u001b[39m LogisticRegression(max_iter \u001b[39m=\u001b[39m \u001b[39m10\u001b[39m)\n\u001b[0;32m     48\u001b[0m searched_tweets \u001b[39m=\u001b[39m client\u001b[39m.\u001b[39msearch_recent_tweets(query\u001b[39m=\u001b[39msearch_word, max_results\u001b[39m=\u001b[39m\u001b[39m100\u001b[39m)\n\u001b[0;32m     49\u001b[0m tweets_to_analyze \u001b[39m=\u001b[39m []\n",
      "\u001b[1;31mNameError\u001b[0m: name 'LogisticRegression' is not defined"
     ]
    }
   ],
   "source": [
    "# def accuracy_summary(pipeline, x_train, y_train, x_test, y_test):\n",
    "#     null_accuracy = len(x_test[y_test == 0])/len(x_test) if len(x_test[y_test == 0])/len(x_test) > 0.5 else 1 - len(x_test[y_test == 0])/len(x_test)\n",
    "#     # if len(x_test[y_test == 0]) / (len(x_test)*1.) > 0.5:\n",
    "#     #     null_accuracy = len(x_test[y_test == 0]) / (len(x_test)*1.)\n",
    "#     # else:\n",
    "#     #     null_accuracy = 1. - (len(x_test[y_test == 0]) / (len(x_test)*1.))\n",
    "#     t0 = time()\n",
    "#     sentiment_fit = pipeline.fit(x_train, y_train)\n",
    "#     y_pred = sentiment_fit.predict(x_test)\n",
    "#     train_test_time = time() - t0\n",
    "#     accuracy = accuracy_score(y_test, y_pred)\n",
    "#     print(\"null accuracy: {0:.2f}%\".format(null_accuracy*100))\n",
    "#     print(\"accuracy score: {0:.2f}%\".format(accuracy*100))\n",
    "#     if accuracy > null_accuracy:\n",
    "#         print(\"model is {0:.2f}% more accurate than null accuracy\".format((accuracy-null_accuracy)*100))\n",
    "#     elif accuracy == null_accuracy:\n",
    "#         print(\"model has the same accuracy with the null accuracy\")\n",
    "#     else:\n",
    "#         print(\"model is {0:.2f}% less accurate than null accuracy\".format((null_accuracy-accuracy)*100))\n",
    "#     print(\"train and test time: {0:.2f}s\".format(train_test_time))\n",
    "#     print(\"-\"*80)\n",
    "#     return accuracy, train_test_time\n",
    "\n",
    "# def nfeature_accuracy_checker(vectorizer=tvec, n_features=n_features, stop_words=None, ngram_range=(1, 1), classifier=lr):\n",
    "#     result = []\n",
    "#     print(classifier, \"\\n\")\n",
    "#     for n in n_features:\n",
    "#         vectorizer.set_params(stop_words=stop_words, max_features=n, ngram_range=ngram_range)\n",
    "#         checker_pipeline = Pipeline([\n",
    "#             ('vectorizer', vectorizer),\n",
    "#             ('classifier', classifier)\n",
    "#         ])\n",
    "#         print(\"Validation result for {} features\".format(n))\n",
    "#         nfeature_accuracy,tt_time = accuracy_summary(checker_pipeline, x_train, y_train, x_validation, y_validation)\n",
    "#         result.append((n,nfeature_accuracy,tt_time))\n",
    "#     return result\n",
    "\n",
    "def sentiment_analyzer_maker(vectorizer, num_features, ngram_range, classifier, train_df):\n",
    "    vectorizer.set_params(max_features=num_features, ngram_range=ngram_range)\n",
    "    sentiment_analyzer = Pipeline([\n",
    "        ('vectorizer', vectorizer),\n",
    "        ('classifier', classifier)\n",
    "    ])\n",
    "    sentiment_analyzer = sentiment_analyzer.fit(train_df.text, train_df.target)\n",
    "    return sentiment_analyzer\n",
    "\n",
    "lr = LogisticRegression(max_iter = 10)\n",
    "searched_tweets = client.search_recent_tweets(query=search_word, max_results=100)\n",
    "tweets_to_analyze = []\n",
    "for tweet in searched_tweets.data:\n",
    "    tweets_to_analyze.append(text_cleaner(tweet.text))\n",
    "sentiment_analyzer = sentiment_analyzer_maker(tvec, 80000, (1,3), lr, my_df)"
   ]
  },
  {
   "cell_type": "code",
   "execution_count": 4,
   "metadata": {},
   "outputs": [
    {
     "ename": "NameError",
     "evalue": "name 'sentiment_analyzer' is not defined",
     "output_type": "error",
     "traceback": [
      "\u001b[1;31m---------------------------------------------------------------------------\u001b[0m",
      "\u001b[1;31mNameError\u001b[0m                                 Traceback (most recent call last)",
      "Cell \u001b[1;32mIn[4], line 7\u001b[0m\n\u001b[0;32m      4\u001b[0m     \u001b[39mprint\u001b[39m(\u001b[39msum\u001b[39m(predicted_sentiments)\u001b[39m/\u001b[39m\u001b[39mlen\u001b[39m(predicted_sentiments))\n\u001b[0;32m      5\u001b[0m     \u001b[39mprint\u001b[39m((\u001b[39msum\u001b[39m(predicted_sentiments)\u001b[39m/\u001b[39m\u001b[39mlen\u001b[39m(predicted_sentiments))\u001b[39m/\u001b[39m\u001b[39m4\u001b[39m)\n\u001b[1;32m----> 7\u001b[0m sentiment_analyzer_applier(sentiment_analyzer, tweets_to_analyze)\n",
      "\u001b[1;31mNameError\u001b[0m: name 'sentiment_analyzer' is not defined"
     ]
    }
   ],
   "source": [
    "def sentiment_analyzer_applier(sentiment_analyzer, tweets_to_analyze):\n",
    "    predicted_sentiments = sentiment_analyzer.predict(tweets_to_analyze)\n",
    "    print(predicted_sentiments)\n",
    "    print(sum(predicted_sentiments)/len(predicted_sentiments))\n",
    "    print((sum(predicted_sentiments)/len(predicted_sentiments))/4)\n",
    "\n",
    "sentiment_analyzer_applier(sentiment_analyzer, tweets_to_analyze)"
   ]
  }
 ],
 "metadata": {
  "kernelspec": {
   "display_name": "Python 3",
   "language": "python",
   "name": "python3"
  },
  "language_info": {
   "codemirror_mode": {
    "name": "ipython",
    "version": 3
   },
   "file_extension": ".py",
   "mimetype": "text/x-python",
   "name": "python",
   "nbconvert_exporter": "python",
   "pygments_lexer": "ipython3",
   "version": "3.10.7"
  },
  "orig_nbformat": 4,
  "vscode": {
   "interpreter": {
    "hash": "48ee2bf33b2352c788f912dcbd443677a6d486fb07c682736af629314ae144f2"
   }
  }
 },
 "nbformat": 4,
 "nbformat_minor": 2
}
